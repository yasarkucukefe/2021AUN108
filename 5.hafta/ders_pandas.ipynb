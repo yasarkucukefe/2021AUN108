{
 "cells": [
  {
   "cell_type": "code",
   "execution_count": 2,
   "id": "lasting-holmes",
   "metadata": {},
   "outputs": [],
   "source": [
    "import pandas as pd\n",
    "import numpy as np"
   ]
  },
  {
   "cell_type": "code",
   "execution_count": 3,
   "id": "first-circular",
   "metadata": {},
   "outputs": [
    {
     "name": "stdout",
     "output_type": "stream",
     "text": [
      "   X  Y  Z\n",
      "A  d  7  3\n",
      "B  a  2  3\n",
      "C  s  3  6\n",
      "D  a  3  7\n"
     ]
    }
   ],
   "source": [
    "# pd.DataFrame(veri,index=..,columns=...)\n",
    "veri_tablosu = pd.DataFrame([['d',7,3],['a',2,3],['s',3,6],['a',3,7]],index=['A','B','C','D'],columns=['X','Y','Z'])\n",
    "print(veri_tablosu)"
   ]
  },
  {
   "cell_type": "code",
   "execution_count": 7,
   "id": "altered-particle",
   "metadata": {},
   "outputs": [
    {
     "name": "stdout",
     "output_type": "stream",
     "text": [
      "<class 'pandas.core.frame.DataFrame'>\n",
      "Index: 4 entries, A to D\n",
      "Data columns (total 3 columns):\n",
      " #   Column  Non-Null Count  Dtype \n",
      "---  ------  --------------  ----- \n",
      " 0   X       4 non-null      object\n",
      " 1   Y       4 non-null      int64 \n",
      " 2   Z       4 non-null      int64 \n",
      "dtypes: int64(2), object(1)\n",
      "memory usage: 128.0+ bytes\n"
     ]
    }
   ],
   "source": [
    "veri_tablosu.info() # info() Data frame hakkında bilgi verir."
   ]
  },
  {
   "cell_type": "code",
   "execution_count": 8,
   "id": "heated-equation",
   "metadata": {},
   "outputs": [
    {
     "data": {
      "text/html": [
       "<div>\n",
       "<style scoped>\n",
       "    .dataframe tbody tr th:only-of-type {\n",
       "        vertical-align: middle;\n",
       "    }\n",
       "\n",
       "    .dataframe tbody tr th {\n",
       "        vertical-align: top;\n",
       "    }\n",
       "\n",
       "    .dataframe thead th {\n",
       "        text-align: right;\n",
       "    }\n",
       "</style>\n",
       "<table border=\"1\" class=\"dataframe\">\n",
       "  <thead>\n",
       "    <tr style=\"text-align: right;\">\n",
       "      <th></th>\n",
       "      <th>X</th>\n",
       "      <th>Y</th>\n",
       "      <th>Z</th>\n",
       "    </tr>\n",
       "  </thead>\n",
       "  <tbody>\n",
       "    <tr>\n",
       "      <th>A</th>\n",
       "      <td>d</td>\n",
       "      <td>7</td>\n",
       "      <td>3</td>\n",
       "    </tr>\n",
       "    <tr>\n",
       "      <th>B</th>\n",
       "      <td>a</td>\n",
       "      <td>2</td>\n",
       "      <td>3</td>\n",
       "    </tr>\n",
       "    <tr>\n",
       "      <th>C</th>\n",
       "      <td>s</td>\n",
       "      <td>3</td>\n",
       "      <td>6</td>\n",
       "    </tr>\n",
       "    <tr>\n",
       "      <th>D</th>\n",
       "      <td>a</td>\n",
       "      <td>3</td>\n",
       "      <td>7</td>\n",
       "    </tr>\n",
       "  </tbody>\n",
       "</table>\n",
       "</div>"
      ],
      "text/plain": [
       "   X  Y  Z\n",
       "A  d  7  3\n",
       "B  a  2  3\n",
       "C  s  3  6\n",
       "D  a  3  7"
      ]
     },
     "execution_count": 8,
     "metadata": {},
     "output_type": "execute_result"
    }
   ],
   "source": [
    "veri_tablosu"
   ]
  },
  {
   "cell_type": "code",
   "execution_count": 9,
   "id": "broken-andrews",
   "metadata": {},
   "outputs": [
    {
     "data": {
      "text/plain": [
       "A    7\n",
       "B    2\n",
       "C    3\n",
       "D    3\n",
       "Name: Y, dtype: int64"
      ]
     },
     "execution_count": 9,
     "metadata": {},
     "output_type": "execute_result"
    }
   ],
   "source": [
    "veri_tablosu['Y'] # Y kolonu"
   ]
  },
  {
   "cell_type": "code",
   "execution_count": 12,
   "id": "passing-redhead",
   "metadata": {},
   "outputs": [],
   "source": [
    "df_xz = veri_tablosu[['X','Z']] # birden fazla data frame kolonu "
   ]
  },
  {
   "cell_type": "code",
   "execution_count": 13,
   "id": "restricted-roberts",
   "metadata": {},
   "outputs": [
    {
     "data": {
      "text/html": [
       "<div>\n",
       "<style scoped>\n",
       "    .dataframe tbody tr th:only-of-type {\n",
       "        vertical-align: middle;\n",
       "    }\n",
       "\n",
       "    .dataframe tbody tr th {\n",
       "        vertical-align: top;\n",
       "    }\n",
       "\n",
       "    .dataframe thead th {\n",
       "        text-align: right;\n",
       "    }\n",
       "</style>\n",
       "<table border=\"1\" class=\"dataframe\">\n",
       "  <thead>\n",
       "    <tr style=\"text-align: right;\">\n",
       "      <th></th>\n",
       "      <th>X</th>\n",
       "      <th>Z</th>\n",
       "    </tr>\n",
       "  </thead>\n",
       "  <tbody>\n",
       "    <tr>\n",
       "      <th>A</th>\n",
       "      <td>d</td>\n",
       "      <td>3</td>\n",
       "    </tr>\n",
       "    <tr>\n",
       "      <th>B</th>\n",
       "      <td>a</td>\n",
       "      <td>3</td>\n",
       "    </tr>\n",
       "    <tr>\n",
       "      <th>C</th>\n",
       "      <td>s</td>\n",
       "      <td>6</td>\n",
       "    </tr>\n",
       "    <tr>\n",
       "      <th>D</th>\n",
       "      <td>a</td>\n",
       "      <td>7</td>\n",
       "    </tr>\n",
       "  </tbody>\n",
       "</table>\n",
       "</div>"
      ],
      "text/plain": [
       "   X  Z\n",
       "A  d  3\n",
       "B  a  3\n",
       "C  s  6\n",
       "D  a  7"
      ]
     },
     "execution_count": 13,
     "metadata": {},
     "output_type": "execute_result"
    }
   ],
   "source": [
    "df_xz"
   ]
  },
  {
   "cell_type": "code",
   "execution_count": 14,
   "id": "otherwise-camel",
   "metadata": {},
   "outputs": [
    {
     "data": {
      "text/html": [
       "<div>\n",
       "<style scoped>\n",
       "    .dataframe tbody tr th:only-of-type {\n",
       "        vertical-align: middle;\n",
       "    }\n",
       "\n",
       "    .dataframe tbody tr th {\n",
       "        vertical-align: top;\n",
       "    }\n",
       "\n",
       "    .dataframe thead th {\n",
       "        text-align: right;\n",
       "    }\n",
       "</style>\n",
       "<table border=\"1\" class=\"dataframe\">\n",
       "  <thead>\n",
       "    <tr style=\"text-align: right;\">\n",
       "      <th></th>\n",
       "      <th>X</th>\n",
       "      <th>Y</th>\n",
       "      <th>Z</th>\n",
       "    </tr>\n",
       "  </thead>\n",
       "  <tbody>\n",
       "    <tr>\n",
       "      <th>A</th>\n",
       "      <td>d</td>\n",
       "      <td>7</td>\n",
       "      <td>3</td>\n",
       "    </tr>\n",
       "    <tr>\n",
       "      <th>B</th>\n",
       "      <td>a</td>\n",
       "      <td>2</td>\n",
       "      <td>3</td>\n",
       "    </tr>\n",
       "    <tr>\n",
       "      <th>C</th>\n",
       "      <td>s</td>\n",
       "      <td>3</td>\n",
       "      <td>6</td>\n",
       "    </tr>\n",
       "    <tr>\n",
       "      <th>D</th>\n",
       "      <td>a</td>\n",
       "      <td>3</td>\n",
       "      <td>7</td>\n",
       "    </tr>\n",
       "  </tbody>\n",
       "</table>\n",
       "</div>"
      ],
      "text/plain": [
       "   X  Y  Z\n",
       "A  d  7  3\n",
       "B  a  2  3\n",
       "C  s  3  6\n",
       "D  a  3  7"
      ]
     },
     "execution_count": 14,
     "metadata": {},
     "output_type": "execute_result"
    }
   ],
   "source": [
    "veri_tablosu"
   ]
  },
  {
   "cell_type": "code",
   "execution_count": 15,
   "id": "running-ridge",
   "metadata": {},
   "outputs": [
    {
     "data": {
      "text/html": [
       "<div>\n",
       "<style scoped>\n",
       "    .dataframe tbody tr th:only-of-type {\n",
       "        vertical-align: middle;\n",
       "    }\n",
       "\n",
       "    .dataframe tbody tr th {\n",
       "        vertical-align: top;\n",
       "    }\n",
       "\n",
       "    .dataframe thead th {\n",
       "        text-align: right;\n",
       "    }\n",
       "</style>\n",
       "<table border=\"1\" class=\"dataframe\">\n",
       "  <thead>\n",
       "    <tr style=\"text-align: right;\">\n",
       "      <th></th>\n",
       "      <th>X</th>\n",
       "      <th>Y</th>\n",
       "      <th>Z</th>\n",
       "    </tr>\n",
       "  </thead>\n",
       "  <tbody>\n",
       "    <tr>\n",
       "      <th>B</th>\n",
       "      <td>a</td>\n",
       "      <td>2</td>\n",
       "      <td>3</td>\n",
       "    </tr>\n",
       "    <tr>\n",
       "      <th>D</th>\n",
       "      <td>a</td>\n",
       "      <td>3</td>\n",
       "      <td>7</td>\n",
       "    </tr>\n",
       "  </tbody>\n",
       "</table>\n",
       "</div>"
      ],
      "text/plain": [
       "   X  Y  Z\n",
       "B  a  2  3\n",
       "D  a  3  7"
      ]
     },
     "execution_count": 15,
     "metadata": {},
     "output_type": "execute_result"
    }
   ],
   "source": [
    "# B ve C satırlarını seçmek için\n",
    "veri_tablosu.loc[['B','D']]"
   ]
  },
  {
   "cell_type": "code",
   "execution_count": 16,
   "id": "difficult-winning",
   "metadata": {},
   "outputs": [
    {
     "data": {
      "text/plain": [
       "X    d\n",
       "Y    7\n",
       "Z    3\n",
       "Name: A, dtype: object"
      ]
     },
     "execution_count": 16,
     "metadata": {},
     "output_type": "execute_result"
    }
   ],
   "source": [
    "veri_tablosu.loc['A']"
   ]
  },
  {
   "cell_type": "code",
   "execution_count": 17,
   "id": "integral-bhutan",
   "metadata": {},
   "outputs": [
    {
     "data": {
      "text/html": [
       "<div>\n",
       "<style scoped>\n",
       "    .dataframe tbody tr th:only-of-type {\n",
       "        vertical-align: middle;\n",
       "    }\n",
       "\n",
       "    .dataframe tbody tr th {\n",
       "        vertical-align: top;\n",
       "    }\n",
       "\n",
       "    .dataframe thead th {\n",
       "        text-align: right;\n",
       "    }\n",
       "</style>\n",
       "<table border=\"1\" class=\"dataframe\">\n",
       "  <thead>\n",
       "    <tr style=\"text-align: right;\">\n",
       "      <th></th>\n",
       "      <th>X</th>\n",
       "      <th>Y</th>\n",
       "      <th>Z</th>\n",
       "    </tr>\n",
       "  </thead>\n",
       "  <tbody>\n",
       "    <tr>\n",
       "      <th>B</th>\n",
       "      <td>a</td>\n",
       "      <td>2</td>\n",
       "      <td>3</td>\n",
       "    </tr>\n",
       "    <tr>\n",
       "      <th>D</th>\n",
       "      <td>a</td>\n",
       "      <td>3</td>\n",
       "      <td>7</td>\n",
       "    </tr>\n",
       "  </tbody>\n",
       "</table>\n",
       "</div>"
      ],
      "text/plain": [
       "   X  Y  Z\n",
       "B  a  2  3\n",
       "D  a  3  7"
      ]
     },
     "execution_count": 17,
     "metadata": {},
     "output_type": "execute_result"
    }
   ],
   "source": [
    "# index isimleri yerine index numaralarını kullanmak için iloc\n",
    "veri_tablosu.iloc[[1,3]]"
   ]
  },
  {
   "cell_type": "code",
   "execution_count": 18,
   "id": "premier-girlfriend",
   "metadata": {},
   "outputs": [
    {
     "data": {
      "text/html": [
       "<div>\n",
       "<style scoped>\n",
       "    .dataframe tbody tr th:only-of-type {\n",
       "        vertical-align: middle;\n",
       "    }\n",
       "\n",
       "    .dataframe tbody tr th {\n",
       "        vertical-align: top;\n",
       "    }\n",
       "\n",
       "    .dataframe thead th {\n",
       "        text-align: right;\n",
       "    }\n",
       "</style>\n",
       "<table border=\"1\" class=\"dataframe\">\n",
       "  <thead>\n",
       "    <tr style=\"text-align: right;\">\n",
       "      <th></th>\n",
       "      <th>X</th>\n",
       "      <th>Y</th>\n",
       "      <th>Z</th>\n",
       "    </tr>\n",
       "  </thead>\n",
       "  <tbody>\n",
       "    <tr>\n",
       "      <th>A</th>\n",
       "      <td>d</td>\n",
       "      <td>7</td>\n",
       "      <td>3</td>\n",
       "    </tr>\n",
       "    <tr>\n",
       "      <th>B</th>\n",
       "      <td>a</td>\n",
       "      <td>2</td>\n",
       "      <td>3</td>\n",
       "    </tr>\n",
       "    <tr>\n",
       "      <th>C</th>\n",
       "      <td>s</td>\n",
       "      <td>3</td>\n",
       "      <td>6</td>\n",
       "    </tr>\n",
       "    <tr>\n",
       "      <th>D</th>\n",
       "      <td>a</td>\n",
       "      <td>3</td>\n",
       "      <td>7</td>\n",
       "    </tr>\n",
       "  </tbody>\n",
       "</table>\n",
       "</div>"
      ],
      "text/plain": [
       "   X  Y  Z\n",
       "A  d  7  3\n",
       "B  a  2  3\n",
       "C  s  3  6\n",
       "D  a  3  7"
      ]
     },
     "execution_count": 18,
     "metadata": {},
     "output_type": "execute_result"
    }
   ],
   "source": [
    "veri_tablosu"
   ]
  },
  {
   "cell_type": "code",
   "execution_count": 19,
   "id": "sealed-bundle",
   "metadata": {},
   "outputs": [
    {
     "data": {
      "text/html": [
       "<div>\n",
       "<style scoped>\n",
       "    .dataframe tbody tr th:only-of-type {\n",
       "        vertical-align: middle;\n",
       "    }\n",
       "\n",
       "    .dataframe tbody tr th {\n",
       "        vertical-align: top;\n",
       "    }\n",
       "\n",
       "    .dataframe thead th {\n",
       "        text-align: right;\n",
       "    }\n",
       "</style>\n",
       "<table border=\"1\" class=\"dataframe\">\n",
       "  <thead>\n",
       "    <tr style=\"text-align: right;\">\n",
       "      <th></th>\n",
       "      <th>X</th>\n",
       "      <th>Z</th>\n",
       "    </tr>\n",
       "  </thead>\n",
       "  <tbody>\n",
       "    <tr>\n",
       "      <th>B</th>\n",
       "      <td>a</td>\n",
       "      <td>3</td>\n",
       "    </tr>\n",
       "    <tr>\n",
       "      <th>D</th>\n",
       "      <td>a</td>\n",
       "      <td>7</td>\n",
       "    </tr>\n",
       "  </tbody>\n",
       "</table>\n",
       "</div>"
      ],
      "text/plain": [
       "   X  Z\n",
       "B  a  3\n",
       "D  a  7"
      ]
     },
     "execution_count": 19,
     "metadata": {},
     "output_type": "execute_result"
    }
   ],
   "source": [
    "# X, ve Z kolonlar + B ve D satırları seçilsin:\n",
    "veri_tablosu[['X','Z']].loc[['B','D']]"
   ]
  },
  {
   "cell_type": "code",
   "execution_count": 20,
   "id": "rolled-surge",
   "metadata": {},
   "outputs": [
    {
     "data": {
      "text/html": [
       "<div>\n",
       "<style scoped>\n",
       "    .dataframe tbody tr th:only-of-type {\n",
       "        vertical-align: middle;\n",
       "    }\n",
       "\n",
       "    .dataframe tbody tr th {\n",
       "        vertical-align: top;\n",
       "    }\n",
       "\n",
       "    .dataframe thead th {\n",
       "        text-align: right;\n",
       "    }\n",
       "</style>\n",
       "<table border=\"1\" class=\"dataframe\">\n",
       "  <thead>\n",
       "    <tr style=\"text-align: right;\">\n",
       "      <th></th>\n",
       "      <th>X</th>\n",
       "      <th>Z</th>\n",
       "    </tr>\n",
       "  </thead>\n",
       "  <tbody>\n",
       "    <tr>\n",
       "      <th>B</th>\n",
       "      <td>a</td>\n",
       "      <td>3</td>\n",
       "    </tr>\n",
       "    <tr>\n",
       "      <th>D</th>\n",
       "      <td>a</td>\n",
       "      <td>7</td>\n",
       "    </tr>\n",
       "  </tbody>\n",
       "</table>\n",
       "</div>"
      ],
      "text/plain": [
       "   X  Z\n",
       "B  a  3\n",
       "D  a  7"
      ]
     },
     "execution_count": 20,
     "metadata": {},
     "output_type": "execute_result"
    }
   ],
   "source": [
    "# X, ve Z kolonlar + B ve D satırları seçilsin:\n",
    "# iloc ile seçim?\n",
    "veri_tablosu[[\"X\",\"Z\"]].iloc[[1,3]] # Mertcan"
   ]
  },
  {
   "cell_type": "code",
   "execution_count": 21,
   "id": "senior-treatment",
   "metadata": {},
   "outputs": [
    {
     "data": {
      "text/html": [
       "<div>\n",
       "<style scoped>\n",
       "    .dataframe tbody tr th:only-of-type {\n",
       "        vertical-align: middle;\n",
       "    }\n",
       "\n",
       "    .dataframe tbody tr th {\n",
       "        vertical-align: top;\n",
       "    }\n",
       "\n",
       "    .dataframe thead th {\n",
       "        text-align: right;\n",
       "    }\n",
       "</style>\n",
       "<table border=\"1\" class=\"dataframe\">\n",
       "  <thead>\n",
       "    <tr style=\"text-align: right;\">\n",
       "      <th></th>\n",
       "      <th>X</th>\n",
       "      <th>Z</th>\n",
       "    </tr>\n",
       "  </thead>\n",
       "  <tbody>\n",
       "    <tr>\n",
       "      <th>B</th>\n",
       "      <td>a</td>\n",
       "      <td>3</td>\n",
       "    </tr>\n",
       "    <tr>\n",
       "      <th>D</th>\n",
       "      <td>a</td>\n",
       "      <td>7</td>\n",
       "    </tr>\n",
       "  </tbody>\n",
       "</table>\n",
       "</div>"
      ],
      "text/plain": [
       "   X  Z\n",
       "B  a  3\n",
       "D  a  7"
      ]
     },
     "execution_count": 21,
     "metadata": {},
     "output_type": "execute_result"
    }
   ],
   "source": [
    "veri_tablosu.iloc[[1, 3]][['X','Z']] # Bilal"
   ]
  },
  {
   "cell_type": "code",
   "execution_count": 22,
   "id": "wrong-johnston",
   "metadata": {},
   "outputs": [
    {
     "data": {
      "text/html": [
       "<div>\n",
       "<style scoped>\n",
       "    .dataframe tbody tr th:only-of-type {\n",
       "        vertical-align: middle;\n",
       "    }\n",
       "\n",
       "    .dataframe tbody tr th {\n",
       "        vertical-align: top;\n",
       "    }\n",
       "\n",
       "    .dataframe thead th {\n",
       "        text-align: right;\n",
       "    }\n",
       "</style>\n",
       "<table border=\"1\" class=\"dataframe\">\n",
       "  <thead>\n",
       "    <tr style=\"text-align: right;\">\n",
       "      <th></th>\n",
       "      <th>X</th>\n",
       "      <th>Y</th>\n",
       "      <th>Z</th>\n",
       "    </tr>\n",
       "  </thead>\n",
       "  <tbody>\n",
       "    <tr>\n",
       "      <th>A</th>\n",
       "      <td>d</td>\n",
       "      <td>7</td>\n",
       "      <td>3</td>\n",
       "    </tr>\n",
       "    <tr>\n",
       "      <th>B</th>\n",
       "      <td>a</td>\n",
       "      <td>2</td>\n",
       "      <td>3</td>\n",
       "    </tr>\n",
       "    <tr>\n",
       "      <th>C</th>\n",
       "      <td>s</td>\n",
       "      <td>3</td>\n",
       "      <td>6</td>\n",
       "    </tr>\n",
       "    <tr>\n",
       "      <th>D</th>\n",
       "      <td>a</td>\n",
       "      <td>3</td>\n",
       "      <td>7</td>\n",
       "    </tr>\n",
       "  </tbody>\n",
       "</table>\n",
       "</div>"
      ],
      "text/plain": [
       "   X  Y  Z\n",
       "A  d  7  3\n",
       "B  a  2  3\n",
       "C  s  3  6\n",
       "D  a  3  7"
      ]
     },
     "execution_count": 22,
     "metadata": {},
     "output_type": "execute_result"
    }
   ],
   "source": [
    "# Koşullu Seçim\n",
    "veri_tablosu"
   ]
  },
  {
   "cell_type": "code",
   "execution_count": 23,
   "id": "exempt-shanghai",
   "metadata": {},
   "outputs": [
    {
     "data": {
      "text/html": [
       "<div>\n",
       "<style scoped>\n",
       "    .dataframe tbody tr th:only-of-type {\n",
       "        vertical-align: middle;\n",
       "    }\n",
       "\n",
       "    .dataframe tbody tr th {\n",
       "        vertical-align: top;\n",
       "    }\n",
       "\n",
       "    .dataframe thead th {\n",
       "        text-align: right;\n",
       "    }\n",
       "</style>\n",
       "<table border=\"1\" class=\"dataframe\">\n",
       "  <thead>\n",
       "    <tr style=\"text-align: right;\">\n",
       "      <th></th>\n",
       "      <th>X</th>\n",
       "      <th>Y</th>\n",
       "      <th>Z</th>\n",
       "    </tr>\n",
       "  </thead>\n",
       "  <tbody>\n",
       "    <tr>\n",
       "      <th>C</th>\n",
       "      <td>s</td>\n",
       "      <td>3</td>\n",
       "      <td>6</td>\n",
       "    </tr>\n",
       "    <tr>\n",
       "      <th>D</th>\n",
       "      <td>a</td>\n",
       "      <td>3</td>\n",
       "      <td>7</td>\n",
       "    </tr>\n",
       "  </tbody>\n",
       "</table>\n",
       "</div>"
      ],
      "text/plain": [
       "   X  Y  Z\n",
       "C  s  3  6\n",
       "D  a  3  7"
      ]
     },
     "execution_count": 23,
     "metadata": {},
     "output_type": "execute_result"
    }
   ],
   "source": [
    "veri_tablosu[veri_tablosu['Z']>5] # Z kolon değeri 5'den büyük olan kayıtları seç"
   ]
  },
  {
   "cell_type": "code",
   "execution_count": 24,
   "id": "superb-ability",
   "metadata": {},
   "outputs": [
    {
     "data": {
      "text/plain": [
       "A    False\n",
       "B    False\n",
       "C     True\n",
       "D     True\n",
       "Name: Z, dtype: bool"
      ]
     },
     "execution_count": 24,
     "metadata": {},
     "output_type": "execute_result"
    }
   ],
   "source": [
    "veri_tablosu['Z']>5"
   ]
  },
  {
   "cell_type": "code",
   "execution_count": 25,
   "id": "cross-civilian",
   "metadata": {},
   "outputs": [
    {
     "data": {
      "text/html": [
       "<div>\n",
       "<style scoped>\n",
       "    .dataframe tbody tr th:only-of-type {\n",
       "        vertical-align: middle;\n",
       "    }\n",
       "\n",
       "    .dataframe tbody tr th {\n",
       "        vertical-align: top;\n",
       "    }\n",
       "\n",
       "    .dataframe thead th {\n",
       "        text-align: right;\n",
       "    }\n",
       "</style>\n",
       "<table border=\"1\" class=\"dataframe\">\n",
       "  <thead>\n",
       "    <tr style=\"text-align: right;\">\n",
       "      <th></th>\n",
       "      <th>X</th>\n",
       "      <th>Y</th>\n",
       "      <th>Z</th>\n",
       "    </tr>\n",
       "  </thead>\n",
       "  <tbody>\n",
       "    <tr>\n",
       "      <th>B</th>\n",
       "      <td>a</td>\n",
       "      <td>2</td>\n",
       "      <td>3</td>\n",
       "    </tr>\n",
       "    <tr>\n",
       "      <th>D</th>\n",
       "      <td>a</td>\n",
       "      <td>3</td>\n",
       "      <td>7</td>\n",
       "    </tr>\n",
       "  </tbody>\n",
       "</table>\n",
       "</div>"
      ],
      "text/plain": [
       "   X  Y  Z\n",
       "B  a  2  3\n",
       "D  a  3  7"
      ]
     },
     "execution_count": 25,
     "metadata": {},
     "output_type": "execute_result"
    }
   ],
   "source": [
    "# X kolon değeri 'a' olan kayıtları\n",
    "veri_tablosu[veri_tablosu['X']=='a']"
   ]
  },
  {
   "cell_type": "code",
   "execution_count": 26,
   "id": "domestic-feelings",
   "metadata": {},
   "outputs": [
    {
     "data": {
      "text/html": [
       "<div>\n",
       "<style scoped>\n",
       "    .dataframe tbody tr th:only-of-type {\n",
       "        vertical-align: middle;\n",
       "    }\n",
       "\n",
       "    .dataframe tbody tr th {\n",
       "        vertical-align: top;\n",
       "    }\n",
       "\n",
       "    .dataframe thead th {\n",
       "        text-align: right;\n",
       "    }\n",
       "</style>\n",
       "<table border=\"1\" class=\"dataframe\">\n",
       "  <thead>\n",
       "    <tr style=\"text-align: right;\">\n",
       "      <th></th>\n",
       "      <th>X</th>\n",
       "      <th>Y</th>\n",
       "      <th>Z</th>\n",
       "    </tr>\n",
       "  </thead>\n",
       "  <tbody>\n",
       "    <tr>\n",
       "      <th>A</th>\n",
       "      <td>d</td>\n",
       "      <td>7</td>\n",
       "      <td>3</td>\n",
       "    </tr>\n",
       "    <tr>\n",
       "      <th>B</th>\n",
       "      <td>a</td>\n",
       "      <td>2</td>\n",
       "      <td>3</td>\n",
       "    </tr>\n",
       "    <tr>\n",
       "      <th>C</th>\n",
       "      <td>s</td>\n",
       "      <td>3</td>\n",
       "      <td>6</td>\n",
       "    </tr>\n",
       "    <tr>\n",
       "      <th>D</th>\n",
       "      <td>a</td>\n",
       "      <td>3</td>\n",
       "      <td>7</td>\n",
       "    </tr>\n",
       "  </tbody>\n",
       "</table>\n",
       "</div>"
      ],
      "text/plain": [
       "   X  Y  Z\n",
       "A  d  7  3\n",
       "B  a  2  3\n",
       "C  s  3  6\n",
       "D  a  3  7"
      ]
     },
     "execution_count": 26,
     "metadata": {},
     "output_type": "execute_result"
    }
   ],
   "source": [
    "veri_tablosu"
   ]
  },
  {
   "cell_type": "code",
   "execution_count": 27,
   "id": "stretch-victoria",
   "metadata": {},
   "outputs": [
    {
     "data": {
      "text/html": [
       "<div>\n",
       "<style scoped>\n",
       "    .dataframe tbody tr th:only-of-type {\n",
       "        vertical-align: middle;\n",
       "    }\n",
       "\n",
       "    .dataframe tbody tr th {\n",
       "        vertical-align: top;\n",
       "    }\n",
       "\n",
       "    .dataframe thead th {\n",
       "        text-align: right;\n",
       "    }\n",
       "</style>\n",
       "<table border=\"1\" class=\"dataframe\">\n",
       "  <thead>\n",
       "    <tr style=\"text-align: right;\">\n",
       "      <th></th>\n",
       "      <th>X</th>\n",
       "      <th>Y</th>\n",
       "      <th>Z</th>\n",
       "    </tr>\n",
       "  </thead>\n",
       "  <tbody>\n",
       "    <tr>\n",
       "      <th>A</th>\n",
       "      <td>d</td>\n",
       "      <td>7</td>\n",
       "      <td>3</td>\n",
       "    </tr>\n",
       "  </tbody>\n",
       "</table>\n",
       "</div>"
      ],
      "text/plain": [
       "   X  Y  Z\n",
       "A  d  7  3"
      ]
     },
     "execution_count": 27,
     "metadata": {},
     "output_type": "execute_result"
    }
   ],
   "source": [
    "# Z kolonu 5'ten küçük VE Y kolonu 3'den büyük olan kayıt?\n",
    "veri_tablosu[(veri_tablosu['Z']<5) & (veri_tablosu['Y']>3)]"
   ]
  },
  {
   "cell_type": "code",
   "execution_count": 29,
   "id": "patent-netherlands",
   "metadata": {},
   "outputs": [
    {
     "data": {
      "text/html": [
       "<div>\n",
       "<style scoped>\n",
       "    .dataframe tbody tr th:only-of-type {\n",
       "        vertical-align: middle;\n",
       "    }\n",
       "\n",
       "    .dataframe tbody tr th {\n",
       "        vertical-align: top;\n",
       "    }\n",
       "\n",
       "    .dataframe thead th {\n",
       "        text-align: right;\n",
       "    }\n",
       "</style>\n",
       "<table border=\"1\" class=\"dataframe\">\n",
       "  <thead>\n",
       "    <tr style=\"text-align: right;\">\n",
       "      <th></th>\n",
       "      <th>X</th>\n",
       "      <th>Y</th>\n",
       "      <th>Z</th>\n",
       "    </tr>\n",
       "  </thead>\n",
       "  <tbody>\n",
       "    <tr>\n",
       "      <th>A</th>\n",
       "      <td>d</td>\n",
       "      <td>7</td>\n",
       "      <td>3</td>\n",
       "    </tr>\n",
       "  </tbody>\n",
       "</table>\n",
       "</div>"
      ],
      "text/plain": [
       "   X  Y  Z\n",
       "A  d  7  3"
      ]
     },
     "execution_count": 29,
     "metadata": {},
     "output_type": "execute_result"
    }
   ],
   "source": [
    "# Alternatif yok Numpy ile\n",
    "veri_tablosu[np.logical_and(veri_tablosu['Z']<5, veri_tablosu['Y']>3)]"
   ]
  },
  {
   "cell_type": "code",
   "execution_count": 36,
   "id": "soviet-store",
   "metadata": {},
   "outputs": [
    {
     "data": {
      "text/plain": [
       "A    d\n",
       "Name: X, dtype: object"
      ]
     },
     "execution_count": 36,
     "metadata": {},
     "output_type": "execute_result"
    }
   ],
   "source": [
    "veri_tablosu[(veri_tablosu['Z']<5) & (veri_tablosu['Y']>3)]['X'] # koşulları sağlayan kayıtın 'X' değeri"
   ]
  },
  {
   "cell_type": "code",
   "execution_count": 35,
   "id": "preceding-edinburgh",
   "metadata": {},
   "outputs": [
    {
     "data": {
      "text/html": [
       "<div>\n",
       "<style scoped>\n",
       "    .dataframe tbody tr th:only-of-type {\n",
       "        vertical-align: middle;\n",
       "    }\n",
       "\n",
       "    .dataframe tbody tr th {\n",
       "        vertical-align: top;\n",
       "    }\n",
       "\n",
       "    .dataframe thead th {\n",
       "        text-align: right;\n",
       "    }\n",
       "</style>\n",
       "<table border=\"1\" class=\"dataframe\">\n",
       "  <thead>\n",
       "    <tr style=\"text-align: right;\">\n",
       "      <th></th>\n",
       "      <th>X</th>\n",
       "    </tr>\n",
       "  </thead>\n",
       "  <tbody>\n",
       "    <tr>\n",
       "      <th>A</th>\n",
       "      <td>d</td>\n",
       "    </tr>\n",
       "  </tbody>\n",
       "</table>\n",
       "</div>"
      ],
      "text/plain": [
       "   X\n",
       "A  d"
      ]
     },
     "execution_count": 35,
     "metadata": {},
     "output_type": "execute_result"
    }
   ],
   "source": [
    "veri_tablosu[(veri_tablosu['Z']<5) & (veri_tablosu['Y']>3)][['X']] # koşulları sağlayan kayıtın 'X' değeri"
   ]
  },
  {
   "cell_type": "code",
   "execution_count": 37,
   "id": "present-mount",
   "metadata": {},
   "outputs": [
    {
     "data": {
      "text/html": [
       "<div>\n",
       "<style scoped>\n",
       "    .dataframe tbody tr th:only-of-type {\n",
       "        vertical-align: middle;\n",
       "    }\n",
       "\n",
       "    .dataframe tbody tr th {\n",
       "        vertical-align: top;\n",
       "    }\n",
       "\n",
       "    .dataframe thead th {\n",
       "        text-align: right;\n",
       "    }\n",
       "</style>\n",
       "<table border=\"1\" class=\"dataframe\">\n",
       "  <thead>\n",
       "    <tr style=\"text-align: right;\">\n",
       "      <th></th>\n",
       "      <th>X</th>\n",
       "      <th>Y</th>\n",
       "      <th>Z</th>\n",
       "    </tr>\n",
       "  </thead>\n",
       "  <tbody>\n",
       "    <tr>\n",
       "      <th>A</th>\n",
       "      <td>d</td>\n",
       "      <td>7</td>\n",
       "      <td>3</td>\n",
       "    </tr>\n",
       "    <tr>\n",
       "      <th>B</th>\n",
       "      <td>a</td>\n",
       "      <td>2</td>\n",
       "      <td>3</td>\n",
       "    </tr>\n",
       "    <tr>\n",
       "      <th>C</th>\n",
       "      <td>s</td>\n",
       "      <td>3</td>\n",
       "      <td>6</td>\n",
       "    </tr>\n",
       "    <tr>\n",
       "      <th>D</th>\n",
       "      <td>a</td>\n",
       "      <td>3</td>\n",
       "      <td>7</td>\n",
       "    </tr>\n",
       "  </tbody>\n",
       "</table>\n",
       "</div>"
      ],
      "text/plain": [
       "   X  Y  Z\n",
       "A  d  7  3\n",
       "B  a  2  3\n",
       "C  s  3  6\n",
       "D  a  3  7"
      ]
     },
     "execution_count": 37,
     "metadata": {},
     "output_type": "execute_result"
    }
   ],
   "source": [
    "veri_tablosu"
   ]
  },
  {
   "cell_type": "code",
   "execution_count": 4,
   "id": "daily-silver",
   "metadata": {},
   "outputs": [],
   "source": [
    "# Yeni bir kolon eklemek için\n",
    "veri_tablosu['W']=[9, 2, 5, 9] # data_frame['yeni_kolon_ad']=[degerler...]"
   ]
  },
  {
   "cell_type": "code",
   "execution_count": 5,
   "id": "compliant-richards",
   "metadata": {},
   "outputs": [
    {
     "data": {
      "text/html": [
       "<div>\n",
       "<style scoped>\n",
       "    .dataframe tbody tr th:only-of-type {\n",
       "        vertical-align: middle;\n",
       "    }\n",
       "\n",
       "    .dataframe tbody tr th {\n",
       "        vertical-align: top;\n",
       "    }\n",
       "\n",
       "    .dataframe thead th {\n",
       "        text-align: right;\n",
       "    }\n",
       "</style>\n",
       "<table border=\"1\" class=\"dataframe\">\n",
       "  <thead>\n",
       "    <tr style=\"text-align: right;\">\n",
       "      <th></th>\n",
       "      <th>X</th>\n",
       "      <th>Y</th>\n",
       "      <th>Z</th>\n",
       "      <th>W</th>\n",
       "    </tr>\n",
       "  </thead>\n",
       "  <tbody>\n",
       "    <tr>\n",
       "      <th>A</th>\n",
       "      <td>d</td>\n",
       "      <td>7</td>\n",
       "      <td>3</td>\n",
       "      <td>9</td>\n",
       "    </tr>\n",
       "    <tr>\n",
       "      <th>B</th>\n",
       "      <td>a</td>\n",
       "      <td>2</td>\n",
       "      <td>3</td>\n",
       "      <td>2</td>\n",
       "    </tr>\n",
       "    <tr>\n",
       "      <th>C</th>\n",
       "      <td>s</td>\n",
       "      <td>3</td>\n",
       "      <td>6</td>\n",
       "      <td>5</td>\n",
       "    </tr>\n",
       "    <tr>\n",
       "      <th>D</th>\n",
       "      <td>a</td>\n",
       "      <td>3</td>\n",
       "      <td>7</td>\n",
       "      <td>9</td>\n",
       "    </tr>\n",
       "  </tbody>\n",
       "</table>\n",
       "</div>"
      ],
      "text/plain": [
       "   X  Y  Z  W\n",
       "A  d  7  3  9\n",
       "B  a  2  3  2\n",
       "C  s  3  6  5\n",
       "D  a  3  7  9"
      ]
     },
     "execution_count": 5,
     "metadata": {},
     "output_type": "execute_result"
    }
   ],
   "source": [
    "veri_tablosu"
   ]
  },
  {
   "cell_type": "code",
   "execution_count": 40,
   "id": "first-maple",
   "metadata": {},
   "outputs": [],
   "source": [
    "# Alıştırma: \n",
    "# veri_tablosu data frame'inde W kolon değeri 4'ten büyük, Y değeri 5'ten küçük, Z değeri 6'dan büyük X değeri kaçtır?"
   ]
  },
  {
   "cell_type": "code",
   "execution_count": 42,
   "id": "considerable-barrier",
   "metadata": {},
   "outputs": [
    {
     "data": {
      "text/html": [
       "<div>\n",
       "<style scoped>\n",
       "    .dataframe tbody tr th:only-of-type {\n",
       "        vertical-align: middle;\n",
       "    }\n",
       "\n",
       "    .dataframe tbody tr th {\n",
       "        vertical-align: top;\n",
       "    }\n",
       "\n",
       "    .dataframe thead th {\n",
       "        text-align: right;\n",
       "    }\n",
       "</style>\n",
       "<table border=\"1\" class=\"dataframe\">\n",
       "  <thead>\n",
       "    <tr style=\"text-align: right;\">\n",
       "      <th></th>\n",
       "      <th>X</th>\n",
       "    </tr>\n",
       "  </thead>\n",
       "  <tbody>\n",
       "    <tr>\n",
       "      <th>D</th>\n",
       "      <td>a</td>\n",
       "    </tr>\n",
       "  </tbody>\n",
       "</table>\n",
       "</div>"
      ],
      "text/plain": [
       "   X\n",
       "D  a"
      ]
     },
     "execution_count": 42,
     "metadata": {},
     "output_type": "execute_result"
    }
   ],
   "source": [
    "veri_tablosu[(veri_tablosu[\"W\"] > 4) & (veri_tablosu[\"Y\"] < 5) & (veri_tablosu[\"Z\"] > 6)][['X']] # Mertcan"
   ]
  },
  {
   "cell_type": "code",
   "execution_count": 44,
   "id": "gross-horizontal",
   "metadata": {},
   "outputs": [
    {
     "data": {
      "text/html": [
       "<div>\n",
       "<style scoped>\n",
       "    .dataframe tbody tr th:only-of-type {\n",
       "        vertical-align: middle;\n",
       "    }\n",
       "\n",
       "    .dataframe tbody tr th {\n",
       "        vertical-align: top;\n",
       "    }\n",
       "\n",
       "    .dataframe thead th {\n",
       "        text-align: right;\n",
       "    }\n",
       "</style>\n",
       "<table border=\"1\" class=\"dataframe\">\n",
       "  <thead>\n",
       "    <tr style=\"text-align: right;\">\n",
       "      <th></th>\n",
       "      <th>X</th>\n",
       "    </tr>\n",
       "  </thead>\n",
       "  <tbody>\n",
       "    <tr>\n",
       "      <th>D</th>\n",
       "      <td>a</td>\n",
       "    </tr>\n",
       "  </tbody>\n",
       "</table>\n",
       "</div>"
      ],
      "text/plain": [
       "   X\n",
       "D  a"
      ]
     },
     "execution_count": 44,
     "metadata": {},
     "output_type": "execute_result"
    }
   ],
   "source": [
    "veri_tablosu[(veri_tablosu['W']>4) & (veri_tablosu['Y']<5) & (veri_tablosu['Z']>6)][['X']] #Enes"
   ]
  },
  {
   "cell_type": "code",
   "execution_count": 10,
   "id": "downtown-conditions",
   "metadata": {},
   "outputs": [
    {
     "data": {
      "text/plain": [
       "Index(['A', 'B', 'C', 'D'], dtype='object')"
      ]
     },
     "execution_count": 10,
     "metadata": {},
     "output_type": "execute_result"
    }
   ],
   "source": [
    "# Bir data frame'in index değerleri\n",
    "veri_tablosu.index"
   ]
  },
  {
   "cell_type": "code",
   "execution_count": 12,
   "id": "mental-tackle",
   "metadata": {},
   "outputs": [
    {
     "data": {
      "text/html": [
       "<div>\n",
       "<style scoped>\n",
       "    .dataframe tbody tr th:only-of-type {\n",
       "        vertical-align: middle;\n",
       "    }\n",
       "\n",
       "    .dataframe tbody tr th {\n",
       "        vertical-align: top;\n",
       "    }\n",
       "\n",
       "    .dataframe thead th {\n",
       "        text-align: right;\n",
       "    }\n",
       "</style>\n",
       "<table border=\"1\" class=\"dataframe\">\n",
       "  <thead>\n",
       "    <tr style=\"text-align: right;\">\n",
       "      <th></th>\n",
       "      <th>index</th>\n",
       "      <th>X</th>\n",
       "      <th>Y</th>\n",
       "      <th>Z</th>\n",
       "      <th>W</th>\n",
       "    </tr>\n",
       "  </thead>\n",
       "  <tbody>\n",
       "    <tr>\n",
       "      <th>0</th>\n",
       "      <td>A</td>\n",
       "      <td>d</td>\n",
       "      <td>7</td>\n",
       "      <td>3</td>\n",
       "      <td>9</td>\n",
       "    </tr>\n",
       "    <tr>\n",
       "      <th>1</th>\n",
       "      <td>B</td>\n",
       "      <td>a</td>\n",
       "      <td>2</td>\n",
       "      <td>3</td>\n",
       "      <td>2</td>\n",
       "    </tr>\n",
       "    <tr>\n",
       "      <th>2</th>\n",
       "      <td>C</td>\n",
       "      <td>s</td>\n",
       "      <td>3</td>\n",
       "      <td>6</td>\n",
       "      <td>5</td>\n",
       "    </tr>\n",
       "    <tr>\n",
       "      <th>3</th>\n",
       "      <td>D</td>\n",
       "      <td>a</td>\n",
       "      <td>3</td>\n",
       "      <td>7</td>\n",
       "      <td>9</td>\n",
       "    </tr>\n",
       "  </tbody>\n",
       "</table>\n",
       "</div>"
      ],
      "text/plain": [
       "  index  X  Y  Z  W\n",
       "0     A  d  7  3  9\n",
       "1     B  a  2  3  2\n",
       "2     C  s  3  6  5\n",
       "3     D  a  3  7  9"
      ]
     },
     "execution_count": 12,
     "metadata": {},
     "output_type": "execute_result"
    }
   ],
   "source": [
    "veri_tablosu.reset_index()"
   ]
  },
  {
   "cell_type": "code",
   "execution_count": 13,
   "id": "adopted-baseball",
   "metadata": {},
   "outputs": [
    {
     "data": {
      "text/html": [
       "<div>\n",
       "<style scoped>\n",
       "    .dataframe tbody tr th:only-of-type {\n",
       "        vertical-align: middle;\n",
       "    }\n",
       "\n",
       "    .dataframe tbody tr th {\n",
       "        vertical-align: top;\n",
       "    }\n",
       "\n",
       "    .dataframe thead th {\n",
       "        text-align: right;\n",
       "    }\n",
       "</style>\n",
       "<table border=\"1\" class=\"dataframe\">\n",
       "  <thead>\n",
       "    <tr style=\"text-align: right;\">\n",
       "      <th></th>\n",
       "      <th>X</th>\n",
       "      <th>Y</th>\n",
       "      <th>Z</th>\n",
       "      <th>W</th>\n",
       "    </tr>\n",
       "  </thead>\n",
       "  <tbody>\n",
       "    <tr>\n",
       "      <th>A</th>\n",
       "      <td>d</td>\n",
       "      <td>7</td>\n",
       "      <td>3</td>\n",
       "      <td>9</td>\n",
       "    </tr>\n",
       "    <tr>\n",
       "      <th>B</th>\n",
       "      <td>a</td>\n",
       "      <td>2</td>\n",
       "      <td>3</td>\n",
       "      <td>2</td>\n",
       "    </tr>\n",
       "    <tr>\n",
       "      <th>C</th>\n",
       "      <td>s</td>\n",
       "      <td>3</td>\n",
       "      <td>6</td>\n",
       "      <td>5</td>\n",
       "    </tr>\n",
       "    <tr>\n",
       "      <th>D</th>\n",
       "      <td>a</td>\n",
       "      <td>3</td>\n",
       "      <td>7</td>\n",
       "      <td>9</td>\n",
       "    </tr>\n",
       "  </tbody>\n",
       "</table>\n",
       "</div>"
      ],
      "text/plain": [
       "   X  Y  Z  W\n",
       "A  d  7  3  9\n",
       "B  a  2  3  2\n",
       "C  s  3  6  5\n",
       "D  a  3  7  9"
      ]
     },
     "execution_count": 13,
     "metadata": {},
     "output_type": "execute_result"
    }
   ],
   "source": [
    "veri_tablosu"
   ]
  },
  {
   "cell_type": "code",
   "execution_count": 14,
   "id": "spoken-graphics",
   "metadata": {},
   "outputs": [],
   "source": [
    "veri_tablosu.reset_index(inplace=True) # orjinal data frame index reset için"
   ]
  },
  {
   "cell_type": "code",
   "execution_count": 15,
   "id": "curious-florist",
   "metadata": {},
   "outputs": [
    {
     "data": {
      "text/html": [
       "<div>\n",
       "<style scoped>\n",
       "    .dataframe tbody tr th:only-of-type {\n",
       "        vertical-align: middle;\n",
       "    }\n",
       "\n",
       "    .dataframe tbody tr th {\n",
       "        vertical-align: top;\n",
       "    }\n",
       "\n",
       "    .dataframe thead th {\n",
       "        text-align: right;\n",
       "    }\n",
       "</style>\n",
       "<table border=\"1\" class=\"dataframe\">\n",
       "  <thead>\n",
       "    <tr style=\"text-align: right;\">\n",
       "      <th></th>\n",
       "      <th>index</th>\n",
       "      <th>X</th>\n",
       "      <th>Y</th>\n",
       "      <th>Z</th>\n",
       "      <th>W</th>\n",
       "    </tr>\n",
       "  </thead>\n",
       "  <tbody>\n",
       "    <tr>\n",
       "      <th>0</th>\n",
       "      <td>A</td>\n",
       "      <td>d</td>\n",
       "      <td>7</td>\n",
       "      <td>3</td>\n",
       "      <td>9</td>\n",
       "    </tr>\n",
       "    <tr>\n",
       "      <th>1</th>\n",
       "      <td>B</td>\n",
       "      <td>a</td>\n",
       "      <td>2</td>\n",
       "      <td>3</td>\n",
       "      <td>2</td>\n",
       "    </tr>\n",
       "    <tr>\n",
       "      <th>2</th>\n",
       "      <td>C</td>\n",
       "      <td>s</td>\n",
       "      <td>3</td>\n",
       "      <td>6</td>\n",
       "      <td>5</td>\n",
       "    </tr>\n",
       "    <tr>\n",
       "      <th>3</th>\n",
       "      <td>D</td>\n",
       "      <td>a</td>\n",
       "      <td>3</td>\n",
       "      <td>7</td>\n",
       "      <td>9</td>\n",
       "    </tr>\n",
       "  </tbody>\n",
       "</table>\n",
       "</div>"
      ],
      "text/plain": [
       "  index  X  Y  Z  W\n",
       "0     A  d  7  3  9\n",
       "1     B  a  2  3  2\n",
       "2     C  s  3  6  5\n",
       "3     D  a  3  7  9"
      ]
     },
     "execution_count": 15,
     "metadata": {},
     "output_type": "execute_result"
    }
   ],
   "source": [
    "veri_tablosu"
   ]
  },
  {
   "cell_type": "code",
   "execution_count": 16,
   "id": "bridal-struggle",
   "metadata": {},
   "outputs": [],
   "source": [
    "# Yeni bir data frame\n",
    "df = pd.DataFrame(np.random.randn(5,4),index='A B C D E'.split(), columns='W X Y Z'.split())"
   ]
  },
  {
   "cell_type": "code",
   "execution_count": 17,
   "id": "banned-addiction",
   "metadata": {},
   "outputs": [
    {
     "data": {
      "text/html": [
       "<div>\n",
       "<style scoped>\n",
       "    .dataframe tbody tr th:only-of-type {\n",
       "        vertical-align: middle;\n",
       "    }\n",
       "\n",
       "    .dataframe tbody tr th {\n",
       "        vertical-align: top;\n",
       "    }\n",
       "\n",
       "    .dataframe thead th {\n",
       "        text-align: right;\n",
       "    }\n",
       "</style>\n",
       "<table border=\"1\" class=\"dataframe\">\n",
       "  <thead>\n",
       "    <tr style=\"text-align: right;\">\n",
       "      <th></th>\n",
       "      <th>W</th>\n",
       "      <th>X</th>\n",
       "      <th>Y</th>\n",
       "      <th>Z</th>\n",
       "    </tr>\n",
       "  </thead>\n",
       "  <tbody>\n",
       "    <tr>\n",
       "      <th>A</th>\n",
       "      <td>-1.941538</td>\n",
       "      <td>-1.459188</td>\n",
       "      <td>-0.622670</td>\n",
       "      <td>-0.658598</td>\n",
       "    </tr>\n",
       "    <tr>\n",
       "      <th>B</th>\n",
       "      <td>1.108641</td>\n",
       "      <td>0.044138</td>\n",
       "      <td>-0.202226</td>\n",
       "      <td>0.060645</td>\n",
       "    </tr>\n",
       "    <tr>\n",
       "      <th>C</th>\n",
       "      <td>1.059145</td>\n",
       "      <td>-0.103773</td>\n",
       "      <td>0.501539</td>\n",
       "      <td>-3.038628</td>\n",
       "    </tr>\n",
       "    <tr>\n",
       "      <th>D</th>\n",
       "      <td>0.446293</td>\n",
       "      <td>0.729910</td>\n",
       "      <td>1.519462</td>\n",
       "      <td>1.277510</td>\n",
       "    </tr>\n",
       "    <tr>\n",
       "      <th>E</th>\n",
       "      <td>0.667044</td>\n",
       "      <td>0.719747</td>\n",
       "      <td>-2.255128</td>\n",
       "      <td>-0.799106</td>\n",
       "    </tr>\n",
       "  </tbody>\n",
       "</table>\n",
       "</div>"
      ],
      "text/plain": [
       "          W         X         Y         Z\n",
       "A -1.941538 -1.459188 -0.622670 -0.658598\n",
       "B  1.108641  0.044138 -0.202226  0.060645\n",
       "C  1.059145 -0.103773  0.501539 -3.038628\n",
       "D  0.446293  0.729910  1.519462  1.277510\n",
       "E  0.667044  0.719747 -2.255128 -0.799106"
      ]
     },
     "execution_count": 17,
     "metadata": {},
     "output_type": "execute_result"
    }
   ],
   "source": [
    "df"
   ]
  },
  {
   "cell_type": "code",
   "execution_count": 18,
   "id": "gross-hearts",
   "metadata": {},
   "outputs": [],
   "source": [
    "df['X'].loc['C']='-'"
   ]
  },
  {
   "cell_type": "code",
   "execution_count": 19,
   "id": "instrumental-accent",
   "metadata": {},
   "outputs": [
    {
     "data": {
      "text/html": [
       "<div>\n",
       "<style scoped>\n",
       "    .dataframe tbody tr th:only-of-type {\n",
       "        vertical-align: middle;\n",
       "    }\n",
       "\n",
       "    .dataframe tbody tr th {\n",
       "        vertical-align: top;\n",
       "    }\n",
       "\n",
       "    .dataframe thead th {\n",
       "        text-align: right;\n",
       "    }\n",
       "</style>\n",
       "<table border=\"1\" class=\"dataframe\">\n",
       "  <thead>\n",
       "    <tr style=\"text-align: right;\">\n",
       "      <th></th>\n",
       "      <th>W</th>\n",
       "      <th>X</th>\n",
       "      <th>Y</th>\n",
       "      <th>Z</th>\n",
       "    </tr>\n",
       "  </thead>\n",
       "  <tbody>\n",
       "    <tr>\n",
       "      <th>A</th>\n",
       "      <td>-1.941538</td>\n",
       "      <td>-1.459188</td>\n",
       "      <td>-0.622670</td>\n",
       "      <td>-0.658598</td>\n",
       "    </tr>\n",
       "    <tr>\n",
       "      <th>B</th>\n",
       "      <td>1.108641</td>\n",
       "      <td>0.044138</td>\n",
       "      <td>-0.202226</td>\n",
       "      <td>0.060645</td>\n",
       "    </tr>\n",
       "    <tr>\n",
       "      <th>C</th>\n",
       "      <td>1.059145</td>\n",
       "      <td>-</td>\n",
       "      <td>0.501539</td>\n",
       "      <td>-3.038628</td>\n",
       "    </tr>\n",
       "    <tr>\n",
       "      <th>D</th>\n",
       "      <td>0.446293</td>\n",
       "      <td>0.72991</td>\n",
       "      <td>1.519462</td>\n",
       "      <td>1.277510</td>\n",
       "    </tr>\n",
       "    <tr>\n",
       "      <th>E</th>\n",
       "      <td>0.667044</td>\n",
       "      <td>0.719747</td>\n",
       "      <td>-2.255128</td>\n",
       "      <td>-0.799106</td>\n",
       "    </tr>\n",
       "  </tbody>\n",
       "</table>\n",
       "</div>"
      ],
      "text/plain": [
       "          W         X         Y         Z\n",
       "A -1.941538 -1.459188 -0.622670 -0.658598\n",
       "B  1.108641  0.044138 -0.202226  0.060645\n",
       "C  1.059145         -  0.501539 -3.038628\n",
       "D  0.446293   0.72991  1.519462  1.277510\n",
       "E  0.667044  0.719747 -2.255128 -0.799106"
      ]
     },
     "execution_count": 19,
     "metadata": {},
     "output_type": "execute_result"
    }
   ],
   "source": [
    "df"
   ]
  },
  {
   "cell_type": "code",
   "execution_count": 23,
   "id": "economic-tourism",
   "metadata": {},
   "outputs": [
    {
     "name": "stderr",
     "output_type": "stream",
     "text": [
      "C:\\Users\\yasar\\anaconda3\\lib\\site-packages\\pandas\\core\\indexing.py:1637: SettingWithCopyWarning: \n",
      "A value is trying to be set on a copy of a slice from a DataFrame\n",
      "\n",
      "See the caveats in the documentation: https://pandas.pydata.org/pandas-docs/stable/user_guide/indexing.html#returning-a-view-versus-a-copy\n",
      "  self._setitem_single_block(indexer, value, name)\n"
     ]
    }
   ],
   "source": [
    "df['Z'].loc['E']='-'"
   ]
  },
  {
   "cell_type": "code",
   "execution_count": 24,
   "id": "trying-recruitment",
   "metadata": {},
   "outputs": [
    {
     "data": {
      "text/html": [
       "<div>\n",
       "<style scoped>\n",
       "    .dataframe tbody tr th:only-of-type {\n",
       "        vertical-align: middle;\n",
       "    }\n",
       "\n",
       "    .dataframe tbody tr th {\n",
       "        vertical-align: top;\n",
       "    }\n",
       "\n",
       "    .dataframe thead th {\n",
       "        text-align: right;\n",
       "    }\n",
       "</style>\n",
       "<table border=\"1\" class=\"dataframe\">\n",
       "  <thead>\n",
       "    <tr style=\"text-align: right;\">\n",
       "      <th></th>\n",
       "      <th>W</th>\n",
       "      <th>X</th>\n",
       "      <th>Y</th>\n",
       "      <th>Z</th>\n",
       "    </tr>\n",
       "  </thead>\n",
       "  <tbody>\n",
       "    <tr>\n",
       "      <th>A</th>\n",
       "      <td>-1.941538</td>\n",
       "      <td>-1.459188</td>\n",
       "      <td>-0.622670</td>\n",
       "      <td>-0.658598</td>\n",
       "    </tr>\n",
       "    <tr>\n",
       "      <th>B</th>\n",
       "      <td>1.108641</td>\n",
       "      <td>0.044138</td>\n",
       "      <td>-0.202226</td>\n",
       "      <td>0.060645</td>\n",
       "    </tr>\n",
       "    <tr>\n",
       "      <th>C</th>\n",
       "      <td>1.059145</td>\n",
       "      <td>-</td>\n",
       "      <td>0.501539</td>\n",
       "      <td>-3.038628</td>\n",
       "    </tr>\n",
       "    <tr>\n",
       "      <th>D</th>\n",
       "      <td>0.446293</td>\n",
       "      <td>0.72991</td>\n",
       "      <td>1.519462</td>\n",
       "      <td>1.27751</td>\n",
       "    </tr>\n",
       "    <tr>\n",
       "      <th>E</th>\n",
       "      <td>0.667044</td>\n",
       "      <td>0.719747</td>\n",
       "      <td>-2.255128</td>\n",
       "      <td>-</td>\n",
       "    </tr>\n",
       "  </tbody>\n",
       "</table>\n",
       "</div>"
      ],
      "text/plain": [
       "          W         X         Y         Z\n",
       "A -1.941538 -1.459188 -0.622670 -0.658598\n",
       "B  1.108641  0.044138 -0.202226  0.060645\n",
       "C  1.059145         -  0.501539 -3.038628\n",
       "D  0.446293   0.72991  1.519462   1.27751\n",
       "E  0.667044  0.719747 -2.255128         -"
      ]
     },
     "execution_count": 24,
     "metadata": {},
     "output_type": "execute_result"
    }
   ],
   "source": [
    "df"
   ]
  },
  {
   "cell_type": "code",
   "execution_count": 26,
   "id": "removable-equilibrium",
   "metadata": {},
   "outputs": [
    {
     "name": "stdout",
     "output_type": "stream",
     "text": [
      "<class 'pandas.core.frame.DataFrame'>\n",
      "Index: 5 entries, A to E\n",
      "Data columns (total 4 columns):\n",
      " #   Column  Non-Null Count  Dtype  \n",
      "---  ------  --------------  -----  \n",
      " 0   W       5 non-null      float64\n",
      " 1   X       5 non-null      object \n",
      " 2   Y       5 non-null      float64\n",
      " 3   Z       5 non-null      object \n",
      "dtypes: float64(2), object(2)\n",
      "memory usage: 372.0+ bytes\n"
     ]
    }
   ],
   "source": [
    "df.info()"
   ]
  },
  {
   "cell_type": "code",
   "execution_count": 35,
   "id": "genuine-lighting",
   "metadata": {},
   "outputs": [],
   "source": [
    "# - olan kolonları (object) => sayısal değere dönüştür\n",
    "df['X']=pd.to_numeric(df['X'],errors = 'coerce')\n",
    "df['Z']=pd.to_numeric(df['Z'],errors = 'coerce')"
   ]
  },
  {
   "cell_type": "code",
   "execution_count": 37,
   "id": "passing-huntington",
   "metadata": {},
   "outputs": [
    {
     "name": "stdout",
     "output_type": "stream",
     "text": [
      "<class 'pandas.core.frame.DataFrame'>\n",
      "Index: 5 entries, A to E\n",
      "Data columns (total 4 columns):\n",
      " #   Column  Non-Null Count  Dtype  \n",
      "---  ------  --------------  -----  \n",
      " 0   W       5 non-null      float64\n",
      " 1   X       4 non-null      float64\n",
      " 2   Y       5 non-null      float64\n",
      " 3   Z       4 non-null      float64\n",
      "dtypes: float64(4)\n",
      "memory usage: 372.0+ bytes\n"
     ]
    }
   ],
   "source": [
    "df.info()"
   ]
  },
  {
   "cell_type": "code",
   "execution_count": 38,
   "id": "communist-description",
   "metadata": {},
   "outputs": [
    {
     "data": {
      "text/html": [
       "<div>\n",
       "<style scoped>\n",
       "    .dataframe tbody tr th:only-of-type {\n",
       "        vertical-align: middle;\n",
       "    }\n",
       "\n",
       "    .dataframe tbody tr th {\n",
       "        vertical-align: top;\n",
       "    }\n",
       "\n",
       "    .dataframe thead th {\n",
       "        text-align: right;\n",
       "    }\n",
       "</style>\n",
       "<table border=\"1\" class=\"dataframe\">\n",
       "  <thead>\n",
       "    <tr style=\"text-align: right;\">\n",
       "      <th></th>\n",
       "      <th>W</th>\n",
       "      <th>X</th>\n",
       "      <th>Y</th>\n",
       "      <th>Z</th>\n",
       "    </tr>\n",
       "  </thead>\n",
       "  <tbody>\n",
       "    <tr>\n",
       "      <th>A</th>\n",
       "      <td>-1.941538</td>\n",
       "      <td>-1.459188</td>\n",
       "      <td>-0.622670</td>\n",
       "      <td>-0.658598</td>\n",
       "    </tr>\n",
       "    <tr>\n",
       "      <th>B</th>\n",
       "      <td>1.108641</td>\n",
       "      <td>0.044138</td>\n",
       "      <td>-0.202226</td>\n",
       "      <td>0.060645</td>\n",
       "    </tr>\n",
       "    <tr>\n",
       "      <th>C</th>\n",
       "      <td>1.059145</td>\n",
       "      <td>NaN</td>\n",
       "      <td>0.501539</td>\n",
       "      <td>-3.038628</td>\n",
       "    </tr>\n",
       "    <tr>\n",
       "      <th>D</th>\n",
       "      <td>0.446293</td>\n",
       "      <td>0.729910</td>\n",
       "      <td>1.519462</td>\n",
       "      <td>1.277510</td>\n",
       "    </tr>\n",
       "    <tr>\n",
       "      <th>E</th>\n",
       "      <td>0.667044</td>\n",
       "      <td>0.719747</td>\n",
       "      <td>-2.255128</td>\n",
       "      <td>NaN</td>\n",
       "    </tr>\n",
       "  </tbody>\n",
       "</table>\n",
       "</div>"
      ],
      "text/plain": [
       "          W         X         Y         Z\n",
       "A -1.941538 -1.459188 -0.622670 -0.658598\n",
       "B  1.108641  0.044138 -0.202226  0.060645\n",
       "C  1.059145       NaN  0.501539 -3.038628\n",
       "D  0.446293  0.729910  1.519462  1.277510\n",
       "E  0.667044  0.719747 -2.255128       NaN"
      ]
     },
     "execution_count": 38,
     "metadata": {},
     "output_type": "execute_result"
    }
   ],
   "source": [
    "df"
   ]
  },
  {
   "cell_type": "code",
   "execution_count": 39,
   "id": "adopted-butterfly",
   "metadata": {},
   "outputs": [
    {
     "data": {
      "text/html": [
       "<div>\n",
       "<style scoped>\n",
       "    .dataframe tbody tr th:only-of-type {\n",
       "        vertical-align: middle;\n",
       "    }\n",
       "\n",
       "    .dataframe tbody tr th {\n",
       "        vertical-align: top;\n",
       "    }\n",
       "\n",
       "    .dataframe thead th {\n",
       "        text-align: right;\n",
       "    }\n",
       "</style>\n",
       "<table border=\"1\" class=\"dataframe\">\n",
       "  <thead>\n",
       "    <tr style=\"text-align: right;\">\n",
       "      <th></th>\n",
       "      <th>W</th>\n",
       "      <th>X</th>\n",
       "      <th>Y</th>\n",
       "      <th>Z</th>\n",
       "    </tr>\n",
       "  </thead>\n",
       "  <tbody>\n",
       "    <tr>\n",
       "      <th>A</th>\n",
       "      <td>-1.941538</td>\n",
       "      <td>-1.459188</td>\n",
       "      <td>-0.622670</td>\n",
       "      <td>-0.658598</td>\n",
       "    </tr>\n",
       "    <tr>\n",
       "      <th>B</th>\n",
       "      <td>1.108641</td>\n",
       "      <td>0.044138</td>\n",
       "      <td>-0.202226</td>\n",
       "      <td>0.060645</td>\n",
       "    </tr>\n",
       "    <tr>\n",
       "      <th>D</th>\n",
       "      <td>0.446293</td>\n",
       "      <td>0.729910</td>\n",
       "      <td>1.519462</td>\n",
       "      <td>1.277510</td>\n",
       "    </tr>\n",
       "  </tbody>\n",
       "</table>\n",
       "</div>"
      ],
      "text/plain": [
       "          W         X         Y         Z\n",
       "A -1.941538 -1.459188 -0.622670 -0.658598\n",
       "B  1.108641  0.044138 -0.202226  0.060645\n",
       "D  0.446293  0.729910  1.519462  1.277510"
      ]
     },
     "execution_count": 39,
     "metadata": {},
     "output_type": "execute_result"
    }
   ],
   "source": [
    "# dropna() => sayı olmayan değerleri içeren SATIRLAR  data frame'den çıkarır\n",
    "df.dropna()"
   ]
  },
  {
   "cell_type": "code",
   "execution_count": 40,
   "id": "tropical-template",
   "metadata": {},
   "outputs": [
    {
     "data": {
      "text/html": [
       "<div>\n",
       "<style scoped>\n",
       "    .dataframe tbody tr th:only-of-type {\n",
       "        vertical-align: middle;\n",
       "    }\n",
       "\n",
       "    .dataframe tbody tr th {\n",
       "        vertical-align: top;\n",
       "    }\n",
       "\n",
       "    .dataframe thead th {\n",
       "        text-align: right;\n",
       "    }\n",
       "</style>\n",
       "<table border=\"1\" class=\"dataframe\">\n",
       "  <thead>\n",
       "    <tr style=\"text-align: right;\">\n",
       "      <th></th>\n",
       "      <th>W</th>\n",
       "      <th>X</th>\n",
       "      <th>Y</th>\n",
       "      <th>Z</th>\n",
       "    </tr>\n",
       "  </thead>\n",
       "  <tbody>\n",
       "    <tr>\n",
       "      <th>A</th>\n",
       "      <td>-1.941538</td>\n",
       "      <td>-1.459188</td>\n",
       "      <td>-0.622670</td>\n",
       "      <td>-0.658598</td>\n",
       "    </tr>\n",
       "    <tr>\n",
       "      <th>B</th>\n",
       "      <td>1.108641</td>\n",
       "      <td>0.044138</td>\n",
       "      <td>-0.202226</td>\n",
       "      <td>0.060645</td>\n",
       "    </tr>\n",
       "    <tr>\n",
       "      <th>C</th>\n",
       "      <td>1.059145</td>\n",
       "      <td>NaN</td>\n",
       "      <td>0.501539</td>\n",
       "      <td>-3.038628</td>\n",
       "    </tr>\n",
       "    <tr>\n",
       "      <th>D</th>\n",
       "      <td>0.446293</td>\n",
       "      <td>0.729910</td>\n",
       "      <td>1.519462</td>\n",
       "      <td>1.277510</td>\n",
       "    </tr>\n",
       "    <tr>\n",
       "      <th>E</th>\n",
       "      <td>0.667044</td>\n",
       "      <td>0.719747</td>\n",
       "      <td>-2.255128</td>\n",
       "      <td>NaN</td>\n",
       "    </tr>\n",
       "  </tbody>\n",
       "</table>\n",
       "</div>"
      ],
      "text/plain": [
       "          W         X         Y         Z\n",
       "A -1.941538 -1.459188 -0.622670 -0.658598\n",
       "B  1.108641  0.044138 -0.202226  0.060645\n",
       "C  1.059145       NaN  0.501539 -3.038628\n",
       "D  0.446293  0.729910  1.519462  1.277510\n",
       "E  0.667044  0.719747 -2.255128       NaN"
      ]
     },
     "execution_count": 40,
     "metadata": {},
     "output_type": "execute_result"
    }
   ],
   "source": [
    "df # dropna() ile orjinal data frame değişmez"
   ]
  },
  {
   "cell_type": "code",
   "execution_count": 41,
   "id": "logical-brain",
   "metadata": {},
   "outputs": [],
   "source": [
    "df1 = df.dropna()"
   ]
  },
  {
   "cell_type": "code",
   "execution_count": 42,
   "id": "proprietary-mortality",
   "metadata": {},
   "outputs": [
    {
     "data": {
      "text/html": [
       "<div>\n",
       "<style scoped>\n",
       "    .dataframe tbody tr th:only-of-type {\n",
       "        vertical-align: middle;\n",
       "    }\n",
       "\n",
       "    .dataframe tbody tr th {\n",
       "        vertical-align: top;\n",
       "    }\n",
       "\n",
       "    .dataframe thead th {\n",
       "        text-align: right;\n",
       "    }\n",
       "</style>\n",
       "<table border=\"1\" class=\"dataframe\">\n",
       "  <thead>\n",
       "    <tr style=\"text-align: right;\">\n",
       "      <th></th>\n",
       "      <th>W</th>\n",
       "      <th>X</th>\n",
       "      <th>Y</th>\n",
       "      <th>Z</th>\n",
       "    </tr>\n",
       "  </thead>\n",
       "  <tbody>\n",
       "    <tr>\n",
       "      <th>A</th>\n",
       "      <td>-1.941538</td>\n",
       "      <td>-1.459188</td>\n",
       "      <td>-0.622670</td>\n",
       "      <td>-0.658598</td>\n",
       "    </tr>\n",
       "    <tr>\n",
       "      <th>B</th>\n",
       "      <td>1.108641</td>\n",
       "      <td>0.044138</td>\n",
       "      <td>-0.202226</td>\n",
       "      <td>0.060645</td>\n",
       "    </tr>\n",
       "    <tr>\n",
       "      <th>D</th>\n",
       "      <td>0.446293</td>\n",
       "      <td>0.729910</td>\n",
       "      <td>1.519462</td>\n",
       "      <td>1.277510</td>\n",
       "    </tr>\n",
       "  </tbody>\n",
       "</table>\n",
       "</div>"
      ],
      "text/plain": [
       "          W         X         Y         Z\n",
       "A -1.941538 -1.459188 -0.622670 -0.658598\n",
       "B  1.108641  0.044138 -0.202226  0.060645\n",
       "D  0.446293  0.729910  1.519462  1.277510"
      ]
     },
     "execution_count": 42,
     "metadata": {},
     "output_type": "execute_result"
    }
   ],
   "source": [
    "df1"
   ]
  },
  {
   "cell_type": "code",
   "execution_count": 43,
   "id": "demanding-drilling",
   "metadata": {},
   "outputs": [
    {
     "data": {
      "text/html": [
       "<div>\n",
       "<style scoped>\n",
       "    .dataframe tbody tr th:only-of-type {\n",
       "        vertical-align: middle;\n",
       "    }\n",
       "\n",
       "    .dataframe tbody tr th {\n",
       "        vertical-align: top;\n",
       "    }\n",
       "\n",
       "    .dataframe thead th {\n",
       "        text-align: right;\n",
       "    }\n",
       "</style>\n",
       "<table border=\"1\" class=\"dataframe\">\n",
       "  <thead>\n",
       "    <tr style=\"text-align: right;\">\n",
       "      <th></th>\n",
       "      <th>W</th>\n",
       "      <th>Y</th>\n",
       "    </tr>\n",
       "  </thead>\n",
       "  <tbody>\n",
       "    <tr>\n",
       "      <th>A</th>\n",
       "      <td>-1.941538</td>\n",
       "      <td>-0.622670</td>\n",
       "    </tr>\n",
       "    <tr>\n",
       "      <th>B</th>\n",
       "      <td>1.108641</td>\n",
       "      <td>-0.202226</td>\n",
       "    </tr>\n",
       "    <tr>\n",
       "      <th>C</th>\n",
       "      <td>1.059145</td>\n",
       "      <td>0.501539</td>\n",
       "    </tr>\n",
       "    <tr>\n",
       "      <th>D</th>\n",
       "      <td>0.446293</td>\n",
       "      <td>1.519462</td>\n",
       "    </tr>\n",
       "    <tr>\n",
       "      <th>E</th>\n",
       "      <td>0.667044</td>\n",
       "      <td>-2.255128</td>\n",
       "    </tr>\n",
       "  </tbody>\n",
       "</table>\n",
       "</div>"
      ],
      "text/plain": [
       "          W         Y\n",
       "A -1.941538 -0.622670\n",
       "B  1.108641 -0.202226\n",
       "C  1.059145  0.501539\n",
       "D  0.446293  1.519462\n",
       "E  0.667044 -2.255128"
      ]
     },
     "execution_count": 43,
     "metadata": {},
     "output_type": "execute_result"
    }
   ],
   "source": [
    "df.dropna(axis=1) # sayı değeri içermeyen KOLONLAR çıkarılır"
   ]
  },
  {
   "cell_type": "code",
   "execution_count": 44,
   "id": "going-count",
   "metadata": {},
   "outputs": [
    {
     "data": {
      "text/html": [
       "<div>\n",
       "<style scoped>\n",
       "    .dataframe tbody tr th:only-of-type {\n",
       "        vertical-align: middle;\n",
       "    }\n",
       "\n",
       "    .dataframe tbody tr th {\n",
       "        vertical-align: top;\n",
       "    }\n",
       "\n",
       "    .dataframe thead th {\n",
       "        text-align: right;\n",
       "    }\n",
       "</style>\n",
       "<table border=\"1\" class=\"dataframe\">\n",
       "  <thead>\n",
       "    <tr style=\"text-align: right;\">\n",
       "      <th></th>\n",
       "      <th>W</th>\n",
       "      <th>X</th>\n",
       "      <th>Y</th>\n",
       "      <th>Z</th>\n",
       "    </tr>\n",
       "  </thead>\n",
       "  <tbody>\n",
       "    <tr>\n",
       "      <th>A</th>\n",
       "      <td>-1.941538</td>\n",
       "      <td>-1.459188</td>\n",
       "      <td>-0.622670</td>\n",
       "      <td>-0.658598</td>\n",
       "    </tr>\n",
       "    <tr>\n",
       "      <th>B</th>\n",
       "      <td>1.108641</td>\n",
       "      <td>0.044138</td>\n",
       "      <td>-0.202226</td>\n",
       "      <td>0.060645</td>\n",
       "    </tr>\n",
       "    <tr>\n",
       "      <th>C</th>\n",
       "      <td>1.059145</td>\n",
       "      <td>NaN</td>\n",
       "      <td>0.501539</td>\n",
       "      <td>-3.038628</td>\n",
       "    </tr>\n",
       "    <tr>\n",
       "      <th>D</th>\n",
       "      <td>0.446293</td>\n",
       "      <td>0.729910</td>\n",
       "      <td>1.519462</td>\n",
       "      <td>1.277510</td>\n",
       "    </tr>\n",
       "    <tr>\n",
       "      <th>E</th>\n",
       "      <td>0.667044</td>\n",
       "      <td>0.719747</td>\n",
       "      <td>-2.255128</td>\n",
       "      <td>NaN</td>\n",
       "    </tr>\n",
       "  </tbody>\n",
       "</table>\n",
       "</div>"
      ],
      "text/plain": [
       "          W         X         Y         Z\n",
       "A -1.941538 -1.459188 -0.622670 -0.658598\n",
       "B  1.108641  0.044138 -0.202226  0.060645\n",
       "C  1.059145       NaN  0.501539 -3.038628\n",
       "D  0.446293  0.729910  1.519462  1.277510\n",
       "E  0.667044  0.719747 -2.255128       NaN"
      ]
     },
     "execution_count": 44,
     "metadata": {},
     "output_type": "execute_result"
    }
   ],
   "source": [
    "df"
   ]
  },
  {
   "cell_type": "code",
   "execution_count": null,
   "id": "extensive-muslim",
   "metadata": {},
   "outputs": [],
   "source": [
    "# NaN değerleri içeren satır veya kolonları silmek yerine yeni bir değer atanabilir.\n",
    "# fillna"
   ]
  },
  {
   "cell_type": "code",
   "execution_count": 49,
   "id": "aging-statement",
   "metadata": {},
   "outputs": [],
   "source": [
    "df['X']=df['X'].fillna(value=0) # NaN değerleri 0 olarak değiştir"
   ]
  },
  {
   "cell_type": "code",
   "execution_count": 50,
   "id": "relevant-austria",
   "metadata": {},
   "outputs": [
    {
     "data": {
      "text/html": [
       "<div>\n",
       "<style scoped>\n",
       "    .dataframe tbody tr th:only-of-type {\n",
       "        vertical-align: middle;\n",
       "    }\n",
       "\n",
       "    .dataframe tbody tr th {\n",
       "        vertical-align: top;\n",
       "    }\n",
       "\n",
       "    .dataframe thead th {\n",
       "        text-align: right;\n",
       "    }\n",
       "</style>\n",
       "<table border=\"1\" class=\"dataframe\">\n",
       "  <thead>\n",
       "    <tr style=\"text-align: right;\">\n",
       "      <th></th>\n",
       "      <th>W</th>\n",
       "      <th>X</th>\n",
       "      <th>Y</th>\n",
       "      <th>Z</th>\n",
       "    </tr>\n",
       "  </thead>\n",
       "  <tbody>\n",
       "    <tr>\n",
       "      <th>A</th>\n",
       "      <td>-1.941538</td>\n",
       "      <td>-1.459188</td>\n",
       "      <td>-0.622670</td>\n",
       "      <td>-0.658598</td>\n",
       "    </tr>\n",
       "    <tr>\n",
       "      <th>B</th>\n",
       "      <td>1.108641</td>\n",
       "      <td>0.044138</td>\n",
       "      <td>-0.202226</td>\n",
       "      <td>0.060645</td>\n",
       "    </tr>\n",
       "    <tr>\n",
       "      <th>C</th>\n",
       "      <td>1.059145</td>\n",
       "      <td>0.000000</td>\n",
       "      <td>0.501539</td>\n",
       "      <td>-3.038628</td>\n",
       "    </tr>\n",
       "    <tr>\n",
       "      <th>D</th>\n",
       "      <td>0.446293</td>\n",
       "      <td>0.729910</td>\n",
       "      <td>1.519462</td>\n",
       "      <td>1.277510</td>\n",
       "    </tr>\n",
       "    <tr>\n",
       "      <th>E</th>\n",
       "      <td>0.667044</td>\n",
       "      <td>0.719747</td>\n",
       "      <td>-2.255128</td>\n",
       "      <td>NaN</td>\n",
       "    </tr>\n",
       "  </tbody>\n",
       "</table>\n",
       "</div>"
      ],
      "text/plain": [
       "          W         X         Y         Z\n",
       "A -1.941538 -1.459188 -0.622670 -0.658598\n",
       "B  1.108641  0.044138 -0.202226  0.060645\n",
       "C  1.059145  0.000000  0.501539 -3.038628\n",
       "D  0.446293  0.729910  1.519462  1.277510\n",
       "E  0.667044  0.719747 -2.255128       NaN"
      ]
     },
     "execution_count": 50,
     "metadata": {},
     "output_type": "execute_result"
    }
   ],
   "source": [
    "df"
   ]
  },
  {
   "cell_type": "code",
   "execution_count": 53,
   "id": "athletic-table",
   "metadata": {},
   "outputs": [],
   "source": [
    "df['Z']=df['Z'].fillna(value=df['Z'].mean())"
   ]
  },
  {
   "cell_type": "code",
   "execution_count": 54,
   "id": "announced-diesel",
   "metadata": {},
   "outputs": [
    {
     "data": {
      "text/html": [
       "<div>\n",
       "<style scoped>\n",
       "    .dataframe tbody tr th:only-of-type {\n",
       "        vertical-align: middle;\n",
       "    }\n",
       "\n",
       "    .dataframe tbody tr th {\n",
       "        vertical-align: top;\n",
       "    }\n",
       "\n",
       "    .dataframe thead th {\n",
       "        text-align: right;\n",
       "    }\n",
       "</style>\n",
       "<table border=\"1\" class=\"dataframe\">\n",
       "  <thead>\n",
       "    <tr style=\"text-align: right;\">\n",
       "      <th></th>\n",
       "      <th>W</th>\n",
       "      <th>X</th>\n",
       "      <th>Y</th>\n",
       "      <th>Z</th>\n",
       "    </tr>\n",
       "  </thead>\n",
       "  <tbody>\n",
       "    <tr>\n",
       "      <th>A</th>\n",
       "      <td>-1.941538</td>\n",
       "      <td>-1.459188</td>\n",
       "      <td>-0.622670</td>\n",
       "      <td>-0.658598</td>\n",
       "    </tr>\n",
       "    <tr>\n",
       "      <th>B</th>\n",
       "      <td>1.108641</td>\n",
       "      <td>0.044138</td>\n",
       "      <td>-0.202226</td>\n",
       "      <td>0.060645</td>\n",
       "    </tr>\n",
       "    <tr>\n",
       "      <th>C</th>\n",
       "      <td>1.059145</td>\n",
       "      <td>0.000000</td>\n",
       "      <td>0.501539</td>\n",
       "      <td>-3.038628</td>\n",
       "    </tr>\n",
       "    <tr>\n",
       "      <th>D</th>\n",
       "      <td>0.446293</td>\n",
       "      <td>0.729910</td>\n",
       "      <td>1.519462</td>\n",
       "      <td>1.277510</td>\n",
       "    </tr>\n",
       "    <tr>\n",
       "      <th>E</th>\n",
       "      <td>0.667044</td>\n",
       "      <td>0.719747</td>\n",
       "      <td>-2.255128</td>\n",
       "      <td>-0.589768</td>\n",
       "    </tr>\n",
       "  </tbody>\n",
       "</table>\n",
       "</div>"
      ],
      "text/plain": [
       "          W         X         Y         Z\n",
       "A -1.941538 -1.459188 -0.622670 -0.658598\n",
       "B  1.108641  0.044138 -0.202226  0.060645\n",
       "C  1.059145  0.000000  0.501539 -3.038628\n",
       "D  0.446293  0.729910  1.519462  1.277510\n",
       "E  0.667044  0.719747 -2.255128 -0.589768"
      ]
     },
     "execution_count": 54,
     "metadata": {},
     "output_type": "execute_result"
    }
   ],
   "source": [
    "df"
   ]
  },
  {
   "cell_type": "code",
   "execution_count": 56,
   "id": "rough-wages",
   "metadata": {},
   "outputs": [
    {
     "data": {
      "text/plain": [
       "W    1.339585\n",
       "X    0.034607\n",
       "Y   -1.059023\n",
       "Z   -2.948839\n",
       "dtype: float64"
      ]
     },
     "execution_count": 56,
     "metadata": {},
     "output_type": "execute_result"
    }
   ],
   "source": [
    "# Satır ve Sütun İşlemleri\n",
    "df.mean() # sütun değerlerinin ortalaması"
   ]
  },
  {
   "cell_type": "code",
   "execution_count": 57,
   "id": "induced-expense",
   "metadata": {},
   "outputs": [
    {
     "data": {
      "text/plain": [
       "W    1.108641\n",
       "X    0.729910\n",
       "Y    1.519462\n",
       "Z    1.277510\n",
       "dtype: float64"
      ]
     },
     "execution_count": 57,
     "metadata": {},
     "output_type": "execute_result"
    }
   ],
   "source": [
    "df.max() # sütun değerlerinin en yükseği"
   ]
  },
  {
   "cell_type": "code",
   "execution_count": 58,
   "id": "accredited-ceramic",
   "metadata": {},
   "outputs": [
    {
     "data": {
      "text/plain": [
       "W   -1.941538\n",
       "X   -1.459188\n",
       "Y   -2.255128\n",
       "Z   -3.038628\n",
       "dtype: float64"
      ]
     },
     "execution_count": 58,
     "metadata": {},
     "output_type": "execute_result"
    }
   ],
   "source": [
    "df.min() # sütun değerlerinin en düşükleri"
   ]
  },
  {
   "cell_type": "code",
   "execution_count": 59,
   "id": "interpreted-collect",
   "metadata": {},
   "outputs": [
    {
     "data": {
      "text/plain": [
       "A   -1.170498\n",
       "B    0.252799\n",
       "C   -0.369486\n",
       "D    0.993294\n",
       "E   -0.364526\n",
       "dtype: float64"
      ]
     },
     "execution_count": 59,
     "metadata": {},
     "output_type": "execute_result"
    }
   ],
   "source": [
    "df.mean(axis=1) # satır ortalamarı"
   ]
  },
  {
   "cell_type": "markdown",
   "id": "sharing-universe",
   "metadata": {},
   "source": [
    "# GRUPLAMA"
   ]
  },
  {
   "cell_type": "code",
   "execution_count": 64,
   "id": "conventional-stockholm",
   "metadata": {},
   "outputs": [],
   "source": [
    "# pd.DataFrame({kolon1:degerler, kolon2:degerler, ... })\n",
    "df = pd.DataFrame({'Isim':['Ahmet','Mehmet','Ayşe','Cemil','Fatma'],'Yas':[45, 28, 32, 29, 45],'Firma':['Aras','Aras','PTT','PTT','Yurtiçi']})"
   ]
  },
  {
   "cell_type": "code",
   "execution_count": 65,
   "id": "perceived-wichita",
   "metadata": {},
   "outputs": [
    {
     "data": {
      "text/html": [
       "<div>\n",
       "<style scoped>\n",
       "    .dataframe tbody tr th:only-of-type {\n",
       "        vertical-align: middle;\n",
       "    }\n",
       "\n",
       "    .dataframe tbody tr th {\n",
       "        vertical-align: top;\n",
       "    }\n",
       "\n",
       "    .dataframe thead th {\n",
       "        text-align: right;\n",
       "    }\n",
       "</style>\n",
       "<table border=\"1\" class=\"dataframe\">\n",
       "  <thead>\n",
       "    <tr style=\"text-align: right;\">\n",
       "      <th></th>\n",
       "      <th>Isim</th>\n",
       "      <th>Yas</th>\n",
       "      <th>Firma</th>\n",
       "    </tr>\n",
       "  </thead>\n",
       "  <tbody>\n",
       "    <tr>\n",
       "      <th>0</th>\n",
       "      <td>Ahmet</td>\n",
       "      <td>45</td>\n",
       "      <td>Aras</td>\n",
       "    </tr>\n",
       "    <tr>\n",
       "      <th>1</th>\n",
       "      <td>Mehmet</td>\n",
       "      <td>28</td>\n",
       "      <td>Aras</td>\n",
       "    </tr>\n",
       "    <tr>\n",
       "      <th>2</th>\n",
       "      <td>Ayşe</td>\n",
       "      <td>32</td>\n",
       "      <td>PTT</td>\n",
       "    </tr>\n",
       "    <tr>\n",
       "      <th>3</th>\n",
       "      <td>Cemil</td>\n",
       "      <td>29</td>\n",
       "      <td>PTT</td>\n",
       "    </tr>\n",
       "    <tr>\n",
       "      <th>4</th>\n",
       "      <td>Fatma</td>\n",
       "      <td>45</td>\n",
       "      <td>Yurtiçi</td>\n",
       "    </tr>\n",
       "  </tbody>\n",
       "</table>\n",
       "</div>"
      ],
      "text/plain": [
       "     Isim  Yas    Firma\n",
       "0   Ahmet   45     Aras\n",
       "1  Mehmet   28     Aras\n",
       "2    Ayşe   32      PTT\n",
       "3   Cemil   29      PTT\n",
       "4   Fatma   45  Yurtiçi"
      ]
     },
     "execution_count": 65,
     "metadata": {},
     "output_type": "execute_result"
    }
   ],
   "source": [
    "df"
   ]
  },
  {
   "cell_type": "code",
   "execution_count": 66,
   "id": "intellectual-inventory",
   "metadata": {},
   "outputs": [
    {
     "data": {
      "text/plain": [
       "35.8"
      ]
     },
     "execution_count": 66,
     "metadata": {},
     "output_type": "execute_result"
    }
   ],
   "source": [
    "df['Yas'].mean() # Çalışanların TAMAMININ ortalama yaşı"
   ]
  },
  {
   "cell_type": "code",
   "execution_count": 68,
   "id": "scenic-hardwood",
   "metadata": {},
   "outputs": [
    {
     "data": {
      "text/html": [
       "<div>\n",
       "<style scoped>\n",
       "    .dataframe tbody tr th:only-of-type {\n",
       "        vertical-align: middle;\n",
       "    }\n",
       "\n",
       "    .dataframe tbody tr th {\n",
       "        vertical-align: top;\n",
       "    }\n",
       "\n",
       "    .dataframe thead th {\n",
       "        text-align: right;\n",
       "    }\n",
       "</style>\n",
       "<table border=\"1\" class=\"dataframe\">\n",
       "  <thead>\n",
       "    <tr style=\"text-align: right;\">\n",
       "      <th></th>\n",
       "      <th>Yas</th>\n",
       "    </tr>\n",
       "    <tr>\n",
       "      <th>Firma</th>\n",
       "      <th></th>\n",
       "    </tr>\n",
       "  </thead>\n",
       "  <tbody>\n",
       "    <tr>\n",
       "      <th>Aras</th>\n",
       "      <td>36.5</td>\n",
       "    </tr>\n",
       "    <tr>\n",
       "      <th>PTT</th>\n",
       "      <td>30.5</td>\n",
       "    </tr>\n",
       "    <tr>\n",
       "      <th>Yurtiçi</th>\n",
       "      <td>45.0</td>\n",
       "    </tr>\n",
       "  </tbody>\n",
       "</table>\n",
       "</div>"
      ],
      "text/plain": [
       "          Yas\n",
       "Firma        \n",
       "Aras     36.5\n",
       "PTT      30.5\n",
       "Yurtiçi  45.0"
      ]
     },
     "execution_count": 68,
     "metadata": {},
     "output_type": "execute_result"
    }
   ],
   "source": [
    "# Firma bazlı ortalama yaş\n",
    "df.groupby(\"Firma\").mean() # data_frame.groupby(\"??\").hesaplama()"
   ]
  },
  {
   "cell_type": "code",
   "execution_count": 71,
   "id": "informative-policy",
   "metadata": {},
   "outputs": [
    {
     "data": {
      "text/html": [
       "<div>\n",
       "<style scoped>\n",
       "    .dataframe tbody tr th:only-of-type {\n",
       "        vertical-align: middle;\n",
       "    }\n",
       "\n",
       "    .dataframe tbody tr th {\n",
       "        vertical-align: top;\n",
       "    }\n",
       "\n",
       "    .dataframe thead th {\n",
       "        text-align: right;\n",
       "    }\n",
       "</style>\n",
       "<table border=\"1\" class=\"dataframe\">\n",
       "  <thead>\n",
       "    <tr style=\"text-align: right;\">\n",
       "      <th></th>\n",
       "      <th>Isim</th>\n",
       "      <th>Yas</th>\n",
       "    </tr>\n",
       "    <tr>\n",
       "      <th>Firma</th>\n",
       "      <th></th>\n",
       "      <th></th>\n",
       "    </tr>\n",
       "  </thead>\n",
       "  <tbody>\n",
       "    <tr>\n",
       "      <th>Aras</th>\n",
       "      <td>2</td>\n",
       "      <td>2</td>\n",
       "    </tr>\n",
       "    <tr>\n",
       "      <th>PTT</th>\n",
       "      <td>2</td>\n",
       "      <td>2</td>\n",
       "    </tr>\n",
       "    <tr>\n",
       "      <th>Yurtiçi</th>\n",
       "      <td>1</td>\n",
       "      <td>1</td>\n",
       "    </tr>\n",
       "  </tbody>\n",
       "</table>\n",
       "</div>"
      ],
      "text/plain": [
       "         Isim  Yas\n",
       "Firma             \n",
       "Aras        2    2\n",
       "PTT         2    2\n",
       "Yurtiçi     1    1"
      ]
     },
     "execution_count": 71,
     "metadata": {},
     "output_type": "execute_result"
    }
   ],
   "source": [
    "df.groupby(\"Firma\").count() # Şirketlerin kaçar çalışanı var"
   ]
  },
  {
   "cell_type": "code",
   "execution_count": 70,
   "id": "boring-semiconductor",
   "metadata": {},
   "outputs": [
    {
     "data": {
      "text/plain": [
       "Isim     5\n",
       "Yas      5\n",
       "Firma    5\n",
       "dtype: int64"
      ]
     },
     "execution_count": 70,
     "metadata": {},
     "output_type": "execute_result"
    }
   ],
   "source": [
    "df.count()"
   ]
  },
  {
   "cell_type": "code",
   "execution_count": 69,
   "id": "incredible-addiction",
   "metadata": {},
   "outputs": [
    {
     "data": {
      "text/html": [
       "<div>\n",
       "<style scoped>\n",
       "    .dataframe tbody tr th:only-of-type {\n",
       "        vertical-align: middle;\n",
       "    }\n",
       "\n",
       "    .dataframe tbody tr th {\n",
       "        vertical-align: top;\n",
       "    }\n",
       "\n",
       "    .dataframe thead th {\n",
       "        text-align: right;\n",
       "    }\n",
       "</style>\n",
       "<table border=\"1\" class=\"dataframe\">\n",
       "  <thead>\n",
       "    <tr style=\"text-align: right;\">\n",
       "      <th></th>\n",
       "      <th>Isim</th>\n",
       "      <th>Yas</th>\n",
       "    </tr>\n",
       "    <tr>\n",
       "      <th>Firma</th>\n",
       "      <th></th>\n",
       "      <th></th>\n",
       "    </tr>\n",
       "  </thead>\n",
       "  <tbody>\n",
       "    <tr>\n",
       "      <th>Aras</th>\n",
       "      <td>Ahmet</td>\n",
       "      <td>28</td>\n",
       "    </tr>\n",
       "    <tr>\n",
       "      <th>PTT</th>\n",
       "      <td>Ayşe</td>\n",
       "      <td>29</td>\n",
       "    </tr>\n",
       "    <tr>\n",
       "      <th>Yurtiçi</th>\n",
       "      <td>Fatma</td>\n",
       "      <td>45</td>\n",
       "    </tr>\n",
       "  </tbody>\n",
       "</table>\n",
       "</div>"
      ],
      "text/plain": [
       "          Isim  Yas\n",
       "Firma              \n",
       "Aras     Ahmet   28\n",
       "PTT       Ayşe   29\n",
       "Yurtiçi  Fatma   45"
      ]
     },
     "execution_count": 69,
     "metadata": {},
     "output_type": "execute_result"
    }
   ],
   "source": [
    "df.groupby(\"Firma\").min()"
   ]
  },
  {
   "cell_type": "code",
   "execution_count": 72,
   "id": "hybrid-election",
   "metadata": {},
   "outputs": [
    {
     "data": {
      "text/html": [
       "<div>\n",
       "<style scoped>\n",
       "    .dataframe tbody tr th:only-of-type {\n",
       "        vertical-align: middle;\n",
       "    }\n",
       "\n",
       "    .dataframe tbody tr th {\n",
       "        vertical-align: top;\n",
       "    }\n",
       "\n",
       "    .dataframe thead th {\n",
       "        text-align: right;\n",
       "    }\n",
       "</style>\n",
       "<table border=\"1\" class=\"dataframe\">\n",
       "  <thead>\n",
       "    <tr style=\"text-align: right;\">\n",
       "      <th></th>\n",
       "      <th>Yas</th>\n",
       "    </tr>\n",
       "  </thead>\n",
       "  <tbody>\n",
       "    <tr>\n",
       "      <th>count</th>\n",
       "      <td>5.000000</td>\n",
       "    </tr>\n",
       "    <tr>\n",
       "      <th>mean</th>\n",
       "      <td>35.800000</td>\n",
       "    </tr>\n",
       "    <tr>\n",
       "      <th>std</th>\n",
       "      <td>8.526429</td>\n",
       "    </tr>\n",
       "    <tr>\n",
       "      <th>min</th>\n",
       "      <td>28.000000</td>\n",
       "    </tr>\n",
       "    <tr>\n",
       "      <th>25%</th>\n",
       "      <td>29.000000</td>\n",
       "    </tr>\n",
       "    <tr>\n",
       "      <th>50%</th>\n",
       "      <td>32.000000</td>\n",
       "    </tr>\n",
       "    <tr>\n",
       "      <th>75%</th>\n",
       "      <td>45.000000</td>\n",
       "    </tr>\n",
       "    <tr>\n",
       "      <th>max</th>\n",
       "      <td>45.000000</td>\n",
       "    </tr>\n",
       "  </tbody>\n",
       "</table>\n",
       "</div>"
      ],
      "text/plain": [
       "             Yas\n",
       "count   5.000000\n",
       "mean   35.800000\n",
       "std     8.526429\n",
       "min    28.000000\n",
       "25%    29.000000\n",
       "50%    32.000000\n",
       "75%    45.000000\n",
       "max    45.000000"
      ]
     },
     "execution_count": 72,
     "metadata": {},
     "output_type": "execute_result"
    }
   ],
   "source": [
    "df.describe()"
   ]
  },
  {
   "cell_type": "code",
   "execution_count": 73,
   "id": "effective-amazon",
   "metadata": {},
   "outputs": [
    {
     "data": {
      "text/html": [
       "<div>\n",
       "<style scoped>\n",
       "    .dataframe tbody tr th:only-of-type {\n",
       "        vertical-align: middle;\n",
       "    }\n",
       "\n",
       "    .dataframe tbody tr th {\n",
       "        vertical-align: top;\n",
       "    }\n",
       "\n",
       "    .dataframe thead tr th {\n",
       "        text-align: left;\n",
       "    }\n",
       "\n",
       "    .dataframe thead tr:last-of-type th {\n",
       "        text-align: right;\n",
       "    }\n",
       "</style>\n",
       "<table border=\"1\" class=\"dataframe\">\n",
       "  <thead>\n",
       "    <tr>\n",
       "      <th></th>\n",
       "      <th colspan=\"8\" halign=\"left\">Yas</th>\n",
       "    </tr>\n",
       "    <tr>\n",
       "      <th></th>\n",
       "      <th>count</th>\n",
       "      <th>mean</th>\n",
       "      <th>std</th>\n",
       "      <th>min</th>\n",
       "      <th>25%</th>\n",
       "      <th>50%</th>\n",
       "      <th>75%</th>\n",
       "      <th>max</th>\n",
       "    </tr>\n",
       "    <tr>\n",
       "      <th>Firma</th>\n",
       "      <th></th>\n",
       "      <th></th>\n",
       "      <th></th>\n",
       "      <th></th>\n",
       "      <th></th>\n",
       "      <th></th>\n",
       "      <th></th>\n",
       "      <th></th>\n",
       "    </tr>\n",
       "  </thead>\n",
       "  <tbody>\n",
       "    <tr>\n",
       "      <th>Aras</th>\n",
       "      <td>2.0</td>\n",
       "      <td>36.5</td>\n",
       "      <td>12.020815</td>\n",
       "      <td>28.0</td>\n",
       "      <td>32.25</td>\n",
       "      <td>36.5</td>\n",
       "      <td>40.75</td>\n",
       "      <td>45.0</td>\n",
       "    </tr>\n",
       "    <tr>\n",
       "      <th>PTT</th>\n",
       "      <td>2.0</td>\n",
       "      <td>30.5</td>\n",
       "      <td>2.121320</td>\n",
       "      <td>29.0</td>\n",
       "      <td>29.75</td>\n",
       "      <td>30.5</td>\n",
       "      <td>31.25</td>\n",
       "      <td>32.0</td>\n",
       "    </tr>\n",
       "    <tr>\n",
       "      <th>Yurtiçi</th>\n",
       "      <td>1.0</td>\n",
       "      <td>45.0</td>\n",
       "      <td>NaN</td>\n",
       "      <td>45.0</td>\n",
       "      <td>45.00</td>\n",
       "      <td>45.0</td>\n",
       "      <td>45.00</td>\n",
       "      <td>45.0</td>\n",
       "    </tr>\n",
       "  </tbody>\n",
       "</table>\n",
       "</div>"
      ],
      "text/plain": [
       "          Yas                                                 \n",
       "        count  mean        std   min    25%   50%    75%   max\n",
       "Firma                                                         \n",
       "Aras      2.0  36.5  12.020815  28.0  32.25  36.5  40.75  45.0\n",
       "PTT       2.0  30.5   2.121320  29.0  29.75  30.5  31.25  32.0\n",
       "Yurtiçi   1.0  45.0        NaN  45.0  45.00  45.0  45.00  45.0"
      ]
     },
     "execution_count": 73,
     "metadata": {},
     "output_type": "execute_result"
    }
   ],
   "source": [
    "df.groupby(\"Firma\").describe()"
   ]
  },
  {
   "cell_type": "code",
   "execution_count": 74,
   "id": "intended-minneapolis",
   "metadata": {},
   "outputs": [
    {
     "data": {
      "text/html": [
       "<div>\n",
       "<style scoped>\n",
       "    .dataframe tbody tr th:only-of-type {\n",
       "        vertical-align: middle;\n",
       "    }\n",
       "\n",
       "    .dataframe tbody tr th {\n",
       "        vertical-align: top;\n",
       "    }\n",
       "\n",
       "    .dataframe thead th {\n",
       "        text-align: right;\n",
       "    }\n",
       "</style>\n",
       "<table border=\"1\" class=\"dataframe\">\n",
       "  <thead>\n",
       "    <tr style=\"text-align: right;\">\n",
       "      <th></th>\n",
       "      <th>0</th>\n",
       "      <th>1</th>\n",
       "      <th>2</th>\n",
       "      <th>3</th>\n",
       "      <th>4</th>\n",
       "    </tr>\n",
       "  </thead>\n",
       "  <tbody>\n",
       "    <tr>\n",
       "      <th>Isim</th>\n",
       "      <td>Ahmet</td>\n",
       "      <td>Mehmet</td>\n",
       "      <td>Ayşe</td>\n",
       "      <td>Cemil</td>\n",
       "      <td>Fatma</td>\n",
       "    </tr>\n",
       "    <tr>\n",
       "      <th>Yas</th>\n",
       "      <td>45</td>\n",
       "      <td>28</td>\n",
       "      <td>32</td>\n",
       "      <td>29</td>\n",
       "      <td>45</td>\n",
       "    </tr>\n",
       "    <tr>\n",
       "      <th>Firma</th>\n",
       "      <td>Aras</td>\n",
       "      <td>Aras</td>\n",
       "      <td>PTT</td>\n",
       "      <td>PTT</td>\n",
       "      <td>Yurtiçi</td>\n",
       "    </tr>\n",
       "  </tbody>\n",
       "</table>\n",
       "</div>"
      ],
      "text/plain": [
       "           0       1     2      3        4\n",
       "Isim   Ahmet  Mehmet  Ayşe  Cemil    Fatma\n",
       "Yas       45      28    32     29       45\n",
       "Firma   Aras    Aras   PTT    PTT  Yurtiçi"
      ]
     },
     "execution_count": 74,
     "metadata": {},
     "output_type": "execute_result"
    }
   ],
   "source": [
    "df.transpose() # Transpose - satır ve kolonların yerini değiştirmek"
   ]
  },
  {
   "cell_type": "code",
   "execution_count": 75,
   "id": "exceptional-territory",
   "metadata": {},
   "outputs": [],
   "source": [
    "# Alıştırmalar"
   ]
  },
  {
   "cell_type": "code",
   "execution_count": 76,
   "id": "lovely-rochester",
   "metadata": {},
   "outputs": [],
   "source": [
    "veri = pd.DataFrame(np.random.randn(100,5), columns='A B C D E'.split())"
   ]
  },
  {
   "cell_type": "code",
   "execution_count": 77,
   "id": "discrete-colon",
   "metadata": {},
   "outputs": [
    {
     "data": {
      "text/html": [
       "<div>\n",
       "<style scoped>\n",
       "    .dataframe tbody tr th:only-of-type {\n",
       "        vertical-align: middle;\n",
       "    }\n",
       "\n",
       "    .dataframe tbody tr th {\n",
       "        vertical-align: top;\n",
       "    }\n",
       "\n",
       "    .dataframe thead th {\n",
       "        text-align: right;\n",
       "    }\n",
       "</style>\n",
       "<table border=\"1\" class=\"dataframe\">\n",
       "  <thead>\n",
       "    <tr style=\"text-align: right;\">\n",
       "      <th></th>\n",
       "      <th>A</th>\n",
       "      <th>B</th>\n",
       "      <th>C</th>\n",
       "      <th>D</th>\n",
       "      <th>E</th>\n",
       "    </tr>\n",
       "  </thead>\n",
       "  <tbody>\n",
       "    <tr>\n",
       "      <th>0</th>\n",
       "      <td>0.732676</td>\n",
       "      <td>-1.275458</td>\n",
       "      <td>1.460971</td>\n",
       "      <td>-0.621580</td>\n",
       "      <td>1.365645</td>\n",
       "    </tr>\n",
       "    <tr>\n",
       "      <th>1</th>\n",
       "      <td>-1.977610</td>\n",
       "      <td>0.308268</td>\n",
       "      <td>-0.224485</td>\n",
       "      <td>0.979607</td>\n",
       "      <td>-0.239182</td>\n",
       "    </tr>\n",
       "    <tr>\n",
       "      <th>2</th>\n",
       "      <td>1.250964</td>\n",
       "      <td>-1.059337</td>\n",
       "      <td>-0.076456</td>\n",
       "      <td>0.865833</td>\n",
       "      <td>0.779752</td>\n",
       "    </tr>\n",
       "    <tr>\n",
       "      <th>3</th>\n",
       "      <td>-1.388618</td>\n",
       "      <td>0.347296</td>\n",
       "      <td>0.667890</td>\n",
       "      <td>-0.518071</td>\n",
       "      <td>0.886412</td>\n",
       "    </tr>\n",
       "    <tr>\n",
       "      <th>4</th>\n",
       "      <td>0.632043</td>\n",
       "      <td>-0.324279</td>\n",
       "      <td>0.120423</td>\n",
       "      <td>-0.019623</td>\n",
       "      <td>-0.732555</td>\n",
       "    </tr>\n",
       "    <tr>\n",
       "      <th>...</th>\n",
       "      <td>...</td>\n",
       "      <td>...</td>\n",
       "      <td>...</td>\n",
       "      <td>...</td>\n",
       "      <td>...</td>\n",
       "    </tr>\n",
       "    <tr>\n",
       "      <th>95</th>\n",
       "      <td>-1.222998</td>\n",
       "      <td>0.446758</td>\n",
       "      <td>0.442400</td>\n",
       "      <td>-0.520854</td>\n",
       "      <td>0.507285</td>\n",
       "    </tr>\n",
       "    <tr>\n",
       "      <th>96</th>\n",
       "      <td>-1.107913</td>\n",
       "      <td>0.687686</td>\n",
       "      <td>-0.379690</td>\n",
       "      <td>-0.025682</td>\n",
       "      <td>-0.391572</td>\n",
       "    </tr>\n",
       "    <tr>\n",
       "      <th>97</th>\n",
       "      <td>0.517636</td>\n",
       "      <td>-2.074624</td>\n",
       "      <td>0.990741</td>\n",
       "      <td>0.699103</td>\n",
       "      <td>0.419325</td>\n",
       "    </tr>\n",
       "    <tr>\n",
       "      <th>98</th>\n",
       "      <td>1.270136</td>\n",
       "      <td>-0.534249</td>\n",
       "      <td>-1.421604</td>\n",
       "      <td>-0.260411</td>\n",
       "      <td>0.109947</td>\n",
       "    </tr>\n",
       "    <tr>\n",
       "      <th>99</th>\n",
       "      <td>-1.123784</td>\n",
       "      <td>-0.696443</td>\n",
       "      <td>-0.817646</td>\n",
       "      <td>0.788393</td>\n",
       "      <td>-0.262362</td>\n",
       "    </tr>\n",
       "  </tbody>\n",
       "</table>\n",
       "<p>100 rows × 5 columns</p>\n",
       "</div>"
      ],
      "text/plain": [
       "           A         B         C         D         E\n",
       "0   0.732676 -1.275458  1.460971 -0.621580  1.365645\n",
       "1  -1.977610  0.308268 -0.224485  0.979607 -0.239182\n",
       "2   1.250964 -1.059337 -0.076456  0.865833  0.779752\n",
       "3  -1.388618  0.347296  0.667890 -0.518071  0.886412\n",
       "4   0.632043 -0.324279  0.120423 -0.019623 -0.732555\n",
       "..       ...       ...       ...       ...       ...\n",
       "95 -1.222998  0.446758  0.442400 -0.520854  0.507285\n",
       "96 -1.107913  0.687686 -0.379690 -0.025682 -0.391572\n",
       "97  0.517636 -2.074624  0.990741  0.699103  0.419325\n",
       "98  1.270136 -0.534249 -1.421604 -0.260411  0.109947\n",
       "99 -1.123784 -0.696443 -0.817646  0.788393 -0.262362\n",
       "\n",
       "[100 rows x 5 columns]"
      ]
     },
     "execution_count": 77,
     "metadata": {},
     "output_type": "execute_result"
    }
   ],
   "source": [
    "veri"
   ]
  },
  {
   "cell_type": "code",
   "execution_count": null,
   "id": "boolean-emission",
   "metadata": {},
   "outputs": [],
   "source": [
    "# Yeni bir kolon ekleyiniz, kolon adı: F, değerler 100 tane rasgele sayı"
   ]
  },
  {
   "cell_type": "code",
   "execution_count": 78,
   "id": "taken-accident",
   "metadata": {},
   "outputs": [],
   "source": [
    "veri['F'] = np.random.randn(100) # Bilal"
   ]
  },
  {
   "cell_type": "code",
   "execution_count": 79,
   "id": "fresh-telling",
   "metadata": {},
   "outputs": [
    {
     "data": {
      "text/html": [
       "<div>\n",
       "<style scoped>\n",
       "    .dataframe tbody tr th:only-of-type {\n",
       "        vertical-align: middle;\n",
       "    }\n",
       "\n",
       "    .dataframe tbody tr th {\n",
       "        vertical-align: top;\n",
       "    }\n",
       "\n",
       "    .dataframe thead th {\n",
       "        text-align: right;\n",
       "    }\n",
       "</style>\n",
       "<table border=\"1\" class=\"dataframe\">\n",
       "  <thead>\n",
       "    <tr style=\"text-align: right;\">\n",
       "      <th></th>\n",
       "      <th>A</th>\n",
       "      <th>B</th>\n",
       "      <th>C</th>\n",
       "      <th>D</th>\n",
       "      <th>E</th>\n",
       "      <th>F</th>\n",
       "    </tr>\n",
       "  </thead>\n",
       "  <tbody>\n",
       "    <tr>\n",
       "      <th>0</th>\n",
       "      <td>0.732676</td>\n",
       "      <td>-1.275458</td>\n",
       "      <td>1.460971</td>\n",
       "      <td>-0.621580</td>\n",
       "      <td>1.365645</td>\n",
       "      <td>1.965665</td>\n",
       "    </tr>\n",
       "    <tr>\n",
       "      <th>1</th>\n",
       "      <td>-1.977610</td>\n",
       "      <td>0.308268</td>\n",
       "      <td>-0.224485</td>\n",
       "      <td>0.979607</td>\n",
       "      <td>-0.239182</td>\n",
       "      <td>-0.293089</td>\n",
       "    </tr>\n",
       "    <tr>\n",
       "      <th>2</th>\n",
       "      <td>1.250964</td>\n",
       "      <td>-1.059337</td>\n",
       "      <td>-0.076456</td>\n",
       "      <td>0.865833</td>\n",
       "      <td>0.779752</td>\n",
       "      <td>2.136457</td>\n",
       "    </tr>\n",
       "    <tr>\n",
       "      <th>3</th>\n",
       "      <td>-1.388618</td>\n",
       "      <td>0.347296</td>\n",
       "      <td>0.667890</td>\n",
       "      <td>-0.518071</td>\n",
       "      <td>0.886412</td>\n",
       "      <td>0.103911</td>\n",
       "    </tr>\n",
       "    <tr>\n",
       "      <th>4</th>\n",
       "      <td>0.632043</td>\n",
       "      <td>-0.324279</td>\n",
       "      <td>0.120423</td>\n",
       "      <td>-0.019623</td>\n",
       "      <td>-0.732555</td>\n",
       "      <td>0.802697</td>\n",
       "    </tr>\n",
       "    <tr>\n",
       "      <th>...</th>\n",
       "      <td>...</td>\n",
       "      <td>...</td>\n",
       "      <td>...</td>\n",
       "      <td>...</td>\n",
       "      <td>...</td>\n",
       "      <td>...</td>\n",
       "    </tr>\n",
       "    <tr>\n",
       "      <th>95</th>\n",
       "      <td>-1.222998</td>\n",
       "      <td>0.446758</td>\n",
       "      <td>0.442400</td>\n",
       "      <td>-0.520854</td>\n",
       "      <td>0.507285</td>\n",
       "      <td>0.474286</td>\n",
       "    </tr>\n",
       "    <tr>\n",
       "      <th>96</th>\n",
       "      <td>-1.107913</td>\n",
       "      <td>0.687686</td>\n",
       "      <td>-0.379690</td>\n",
       "      <td>-0.025682</td>\n",
       "      <td>-0.391572</td>\n",
       "      <td>0.826240</td>\n",
       "    </tr>\n",
       "    <tr>\n",
       "      <th>97</th>\n",
       "      <td>0.517636</td>\n",
       "      <td>-2.074624</td>\n",
       "      <td>0.990741</td>\n",
       "      <td>0.699103</td>\n",
       "      <td>0.419325</td>\n",
       "      <td>-0.469381</td>\n",
       "    </tr>\n",
       "    <tr>\n",
       "      <th>98</th>\n",
       "      <td>1.270136</td>\n",
       "      <td>-0.534249</td>\n",
       "      <td>-1.421604</td>\n",
       "      <td>-0.260411</td>\n",
       "      <td>0.109947</td>\n",
       "      <td>-0.532926</td>\n",
       "    </tr>\n",
       "    <tr>\n",
       "      <th>99</th>\n",
       "      <td>-1.123784</td>\n",
       "      <td>-0.696443</td>\n",
       "      <td>-0.817646</td>\n",
       "      <td>0.788393</td>\n",
       "      <td>-0.262362</td>\n",
       "      <td>-0.578862</td>\n",
       "    </tr>\n",
       "  </tbody>\n",
       "</table>\n",
       "<p>100 rows × 6 columns</p>\n",
       "</div>"
      ],
      "text/plain": [
       "           A         B         C         D         E         F\n",
       "0   0.732676 -1.275458  1.460971 -0.621580  1.365645  1.965665\n",
       "1  -1.977610  0.308268 -0.224485  0.979607 -0.239182 -0.293089\n",
       "2   1.250964 -1.059337 -0.076456  0.865833  0.779752  2.136457\n",
       "3  -1.388618  0.347296  0.667890 -0.518071  0.886412  0.103911\n",
       "4   0.632043 -0.324279  0.120423 -0.019623 -0.732555  0.802697\n",
       "..       ...       ...       ...       ...       ...       ...\n",
       "95 -1.222998  0.446758  0.442400 -0.520854  0.507285  0.474286\n",
       "96 -1.107913  0.687686 -0.379690 -0.025682 -0.391572  0.826240\n",
       "97  0.517636 -2.074624  0.990741  0.699103  0.419325 -0.469381\n",
       "98  1.270136 -0.534249 -1.421604 -0.260411  0.109947 -0.532926\n",
       "99 -1.123784 -0.696443 -0.817646  0.788393 -0.262362 -0.578862\n",
       "\n",
       "[100 rows x 6 columns]"
      ]
     },
     "execution_count": 79,
     "metadata": {},
     "output_type": "execute_result"
    }
   ],
   "source": [
    "veri"
   ]
  },
  {
   "cell_type": "code",
   "execution_count": 80,
   "id": "oriental-regulation",
   "metadata": {},
   "outputs": [],
   "source": [
    "veri['G']=np.random.rand(100) # Enes"
   ]
  },
  {
   "cell_type": "code",
   "execution_count": 81,
   "id": "incredible-seller",
   "metadata": {},
   "outputs": [
    {
     "data": {
      "text/html": [
       "<div>\n",
       "<style scoped>\n",
       "    .dataframe tbody tr th:only-of-type {\n",
       "        vertical-align: middle;\n",
       "    }\n",
       "\n",
       "    .dataframe tbody tr th {\n",
       "        vertical-align: top;\n",
       "    }\n",
       "\n",
       "    .dataframe thead th {\n",
       "        text-align: right;\n",
       "    }\n",
       "</style>\n",
       "<table border=\"1\" class=\"dataframe\">\n",
       "  <thead>\n",
       "    <tr style=\"text-align: right;\">\n",
       "      <th></th>\n",
       "      <th>A</th>\n",
       "      <th>B</th>\n",
       "      <th>C</th>\n",
       "      <th>D</th>\n",
       "      <th>E</th>\n",
       "      <th>F</th>\n",
       "      <th>G</th>\n",
       "    </tr>\n",
       "  </thead>\n",
       "  <tbody>\n",
       "    <tr>\n",
       "      <th>0</th>\n",
       "      <td>0.732676</td>\n",
       "      <td>-1.275458</td>\n",
       "      <td>1.460971</td>\n",
       "      <td>-0.621580</td>\n",
       "      <td>1.365645</td>\n",
       "      <td>1.965665</td>\n",
       "      <td>0.151843</td>\n",
       "    </tr>\n",
       "    <tr>\n",
       "      <th>1</th>\n",
       "      <td>-1.977610</td>\n",
       "      <td>0.308268</td>\n",
       "      <td>-0.224485</td>\n",
       "      <td>0.979607</td>\n",
       "      <td>-0.239182</td>\n",
       "      <td>-0.293089</td>\n",
       "      <td>0.694225</td>\n",
       "    </tr>\n",
       "    <tr>\n",
       "      <th>2</th>\n",
       "      <td>1.250964</td>\n",
       "      <td>-1.059337</td>\n",
       "      <td>-0.076456</td>\n",
       "      <td>0.865833</td>\n",
       "      <td>0.779752</td>\n",
       "      <td>2.136457</td>\n",
       "      <td>0.435525</td>\n",
       "    </tr>\n",
       "    <tr>\n",
       "      <th>3</th>\n",
       "      <td>-1.388618</td>\n",
       "      <td>0.347296</td>\n",
       "      <td>0.667890</td>\n",
       "      <td>-0.518071</td>\n",
       "      <td>0.886412</td>\n",
       "      <td>0.103911</td>\n",
       "      <td>0.425677</td>\n",
       "    </tr>\n",
       "    <tr>\n",
       "      <th>4</th>\n",
       "      <td>0.632043</td>\n",
       "      <td>-0.324279</td>\n",
       "      <td>0.120423</td>\n",
       "      <td>-0.019623</td>\n",
       "      <td>-0.732555</td>\n",
       "      <td>0.802697</td>\n",
       "      <td>0.303491</td>\n",
       "    </tr>\n",
       "    <tr>\n",
       "      <th>...</th>\n",
       "      <td>...</td>\n",
       "      <td>...</td>\n",
       "      <td>...</td>\n",
       "      <td>...</td>\n",
       "      <td>...</td>\n",
       "      <td>...</td>\n",
       "      <td>...</td>\n",
       "    </tr>\n",
       "    <tr>\n",
       "      <th>95</th>\n",
       "      <td>-1.222998</td>\n",
       "      <td>0.446758</td>\n",
       "      <td>0.442400</td>\n",
       "      <td>-0.520854</td>\n",
       "      <td>0.507285</td>\n",
       "      <td>0.474286</td>\n",
       "      <td>0.321838</td>\n",
       "    </tr>\n",
       "    <tr>\n",
       "      <th>96</th>\n",
       "      <td>-1.107913</td>\n",
       "      <td>0.687686</td>\n",
       "      <td>-0.379690</td>\n",
       "      <td>-0.025682</td>\n",
       "      <td>-0.391572</td>\n",
       "      <td>0.826240</td>\n",
       "      <td>0.858322</td>\n",
       "    </tr>\n",
       "    <tr>\n",
       "      <th>97</th>\n",
       "      <td>0.517636</td>\n",
       "      <td>-2.074624</td>\n",
       "      <td>0.990741</td>\n",
       "      <td>0.699103</td>\n",
       "      <td>0.419325</td>\n",
       "      <td>-0.469381</td>\n",
       "      <td>0.996759</td>\n",
       "    </tr>\n",
       "    <tr>\n",
       "      <th>98</th>\n",
       "      <td>1.270136</td>\n",
       "      <td>-0.534249</td>\n",
       "      <td>-1.421604</td>\n",
       "      <td>-0.260411</td>\n",
       "      <td>0.109947</td>\n",
       "      <td>-0.532926</td>\n",
       "      <td>0.090262</td>\n",
       "    </tr>\n",
       "    <tr>\n",
       "      <th>99</th>\n",
       "      <td>-1.123784</td>\n",
       "      <td>-0.696443</td>\n",
       "      <td>-0.817646</td>\n",
       "      <td>0.788393</td>\n",
       "      <td>-0.262362</td>\n",
       "      <td>-0.578862</td>\n",
       "      <td>0.809963</td>\n",
       "    </tr>\n",
       "  </tbody>\n",
       "</table>\n",
       "<p>100 rows × 7 columns</p>\n",
       "</div>"
      ],
      "text/plain": [
       "           A         B         C         D         E         F         G\n",
       "0   0.732676 -1.275458  1.460971 -0.621580  1.365645  1.965665  0.151843\n",
       "1  -1.977610  0.308268 -0.224485  0.979607 -0.239182 -0.293089  0.694225\n",
       "2   1.250964 -1.059337 -0.076456  0.865833  0.779752  2.136457  0.435525\n",
       "3  -1.388618  0.347296  0.667890 -0.518071  0.886412  0.103911  0.425677\n",
       "4   0.632043 -0.324279  0.120423 -0.019623 -0.732555  0.802697  0.303491\n",
       "..       ...       ...       ...       ...       ...       ...       ...\n",
       "95 -1.222998  0.446758  0.442400 -0.520854  0.507285  0.474286  0.321838\n",
       "96 -1.107913  0.687686 -0.379690 -0.025682 -0.391572  0.826240  0.858322\n",
       "97  0.517636 -2.074624  0.990741  0.699103  0.419325 -0.469381  0.996759\n",
       "98  1.270136 -0.534249 -1.421604 -0.260411  0.109947 -0.532926  0.090262\n",
       "99 -1.123784 -0.696443 -0.817646  0.788393 -0.262362 -0.578862  0.809963\n",
       "\n",
       "[100 rows x 7 columns]"
      ]
     },
     "execution_count": 81,
     "metadata": {},
     "output_type": "execute_result"
    }
   ],
   "source": [
    "veri"
   ]
  },
  {
   "cell_type": "code",
   "execution_count": 82,
   "id": "unnecessary-ballet",
   "metadata": {},
   "outputs": [
    {
     "data": {
      "text/plain": [
       "A   -0.013158\n",
       "B   -0.064689\n",
       "C   -0.166680\n",
       "D    0.081038\n",
       "E    0.035484\n",
       "F   -0.022328\n",
       "G    0.472352\n",
       "dtype: float64"
      ]
     },
     "execution_count": 82,
     "metadata": {},
     "output_type": "execute_result"
    }
   ],
   "source": [
    "# Soru: Kolon değerlerini ortalaması\n",
    "veri.mean()"
   ]
  },
  {
   "cell_type": "code",
   "execution_count": 83,
   "id": "tight-wallet",
   "metadata": {},
   "outputs": [
    {
     "data": {
      "text/html": [
       "<div>\n",
       "<style scoped>\n",
       "    .dataframe tbody tr th:only-of-type {\n",
       "        vertical-align: middle;\n",
       "    }\n",
       "\n",
       "    .dataframe tbody tr th {\n",
       "        vertical-align: top;\n",
       "    }\n",
       "\n",
       "    .dataframe thead th {\n",
       "        text-align: right;\n",
       "    }\n",
       "</style>\n",
       "<table border=\"1\" class=\"dataframe\">\n",
       "  <thead>\n",
       "    <tr style=\"text-align: right;\">\n",
       "      <th></th>\n",
       "      <th>A</th>\n",
       "      <th>C</th>\n",
       "      <th>F</th>\n",
       "    </tr>\n",
       "  </thead>\n",
       "  <tbody>\n",
       "    <tr>\n",
       "      <th>0</th>\n",
       "      <td>0.732676</td>\n",
       "      <td>1.460971</td>\n",
       "      <td>1.965665</td>\n",
       "    </tr>\n",
       "    <tr>\n",
       "      <th>1</th>\n",
       "      <td>-1.977610</td>\n",
       "      <td>-0.224485</td>\n",
       "      <td>-0.293089</td>\n",
       "    </tr>\n",
       "    <tr>\n",
       "      <th>2</th>\n",
       "      <td>1.250964</td>\n",
       "      <td>-0.076456</td>\n",
       "      <td>2.136457</td>\n",
       "    </tr>\n",
       "    <tr>\n",
       "      <th>3</th>\n",
       "      <td>-1.388618</td>\n",
       "      <td>0.667890</td>\n",
       "      <td>0.103911</td>\n",
       "    </tr>\n",
       "    <tr>\n",
       "      <th>4</th>\n",
       "      <td>0.632043</td>\n",
       "      <td>0.120423</td>\n",
       "      <td>0.802697</td>\n",
       "    </tr>\n",
       "    <tr>\n",
       "      <th>...</th>\n",
       "      <td>...</td>\n",
       "      <td>...</td>\n",
       "      <td>...</td>\n",
       "    </tr>\n",
       "    <tr>\n",
       "      <th>95</th>\n",
       "      <td>-1.222998</td>\n",
       "      <td>0.442400</td>\n",
       "      <td>0.474286</td>\n",
       "    </tr>\n",
       "    <tr>\n",
       "      <th>96</th>\n",
       "      <td>-1.107913</td>\n",
       "      <td>-0.379690</td>\n",
       "      <td>0.826240</td>\n",
       "    </tr>\n",
       "    <tr>\n",
       "      <th>97</th>\n",
       "      <td>0.517636</td>\n",
       "      <td>0.990741</td>\n",
       "      <td>-0.469381</td>\n",
       "    </tr>\n",
       "    <tr>\n",
       "      <th>98</th>\n",
       "      <td>1.270136</td>\n",
       "      <td>-1.421604</td>\n",
       "      <td>-0.532926</td>\n",
       "    </tr>\n",
       "    <tr>\n",
       "      <th>99</th>\n",
       "      <td>-1.123784</td>\n",
       "      <td>-0.817646</td>\n",
       "      <td>-0.578862</td>\n",
       "    </tr>\n",
       "  </tbody>\n",
       "</table>\n",
       "<p>100 rows × 3 columns</p>\n",
       "</div>"
      ],
      "text/plain": [
       "           A         C         F\n",
       "0   0.732676  1.460971  1.965665\n",
       "1  -1.977610 -0.224485 -0.293089\n",
       "2   1.250964 -0.076456  2.136457\n",
       "3  -1.388618  0.667890  0.103911\n",
       "4   0.632043  0.120423  0.802697\n",
       "..       ...       ...       ...\n",
       "95 -1.222998  0.442400  0.474286\n",
       "96 -1.107913 -0.379690  0.826240\n",
       "97  0.517636  0.990741 -0.469381\n",
       "98  1.270136 -1.421604 -0.532926\n",
       "99 -1.123784 -0.817646 -0.578862\n",
       "\n",
       "[100 rows x 3 columns]"
      ]
     },
     "execution_count": 83,
     "metadata": {},
     "output_type": "execute_result"
    }
   ],
   "source": [
    "# A, C, F kolonlarını seçiniz\n",
    "veri['A C F'.split()] # Bilal"
   ]
  },
  {
   "cell_type": "code",
   "execution_count": 84,
   "id": "substantial-cyprus",
   "metadata": {},
   "outputs": [
    {
     "data": {
      "text/html": [
       "<div>\n",
       "<style scoped>\n",
       "    .dataframe tbody tr th:only-of-type {\n",
       "        vertical-align: middle;\n",
       "    }\n",
       "\n",
       "    .dataframe tbody tr th {\n",
       "        vertical-align: top;\n",
       "    }\n",
       "\n",
       "    .dataframe thead th {\n",
       "        text-align: right;\n",
       "    }\n",
       "</style>\n",
       "<table border=\"1\" class=\"dataframe\">\n",
       "  <thead>\n",
       "    <tr style=\"text-align: right;\">\n",
       "      <th></th>\n",
       "      <th>A</th>\n",
       "      <th>C</th>\n",
       "      <th>F</th>\n",
       "    </tr>\n",
       "  </thead>\n",
       "  <tbody>\n",
       "    <tr>\n",
       "      <th>0</th>\n",
       "      <td>0.732676</td>\n",
       "      <td>1.460971</td>\n",
       "      <td>1.965665</td>\n",
       "    </tr>\n",
       "    <tr>\n",
       "      <th>1</th>\n",
       "      <td>-1.977610</td>\n",
       "      <td>-0.224485</td>\n",
       "      <td>-0.293089</td>\n",
       "    </tr>\n",
       "    <tr>\n",
       "      <th>2</th>\n",
       "      <td>1.250964</td>\n",
       "      <td>-0.076456</td>\n",
       "      <td>2.136457</td>\n",
       "    </tr>\n",
       "    <tr>\n",
       "      <th>3</th>\n",
       "      <td>-1.388618</td>\n",
       "      <td>0.667890</td>\n",
       "      <td>0.103911</td>\n",
       "    </tr>\n",
       "    <tr>\n",
       "      <th>4</th>\n",
       "      <td>0.632043</td>\n",
       "      <td>0.120423</td>\n",
       "      <td>0.802697</td>\n",
       "    </tr>\n",
       "    <tr>\n",
       "      <th>...</th>\n",
       "      <td>...</td>\n",
       "      <td>...</td>\n",
       "      <td>...</td>\n",
       "    </tr>\n",
       "    <tr>\n",
       "      <th>95</th>\n",
       "      <td>-1.222998</td>\n",
       "      <td>0.442400</td>\n",
       "      <td>0.474286</td>\n",
       "    </tr>\n",
       "    <tr>\n",
       "      <th>96</th>\n",
       "      <td>-1.107913</td>\n",
       "      <td>-0.379690</td>\n",
       "      <td>0.826240</td>\n",
       "    </tr>\n",
       "    <tr>\n",
       "      <th>97</th>\n",
       "      <td>0.517636</td>\n",
       "      <td>0.990741</td>\n",
       "      <td>-0.469381</td>\n",
       "    </tr>\n",
       "    <tr>\n",
       "      <th>98</th>\n",
       "      <td>1.270136</td>\n",
       "      <td>-1.421604</td>\n",
       "      <td>-0.532926</td>\n",
       "    </tr>\n",
       "    <tr>\n",
       "      <th>99</th>\n",
       "      <td>-1.123784</td>\n",
       "      <td>-0.817646</td>\n",
       "      <td>-0.578862</td>\n",
       "    </tr>\n",
       "  </tbody>\n",
       "</table>\n",
       "<p>100 rows × 3 columns</p>\n",
       "</div>"
      ],
      "text/plain": [
       "           A         C         F\n",
       "0   0.732676  1.460971  1.965665\n",
       "1  -1.977610 -0.224485 -0.293089\n",
       "2   1.250964 -0.076456  2.136457\n",
       "3  -1.388618  0.667890  0.103911\n",
       "4   0.632043  0.120423  0.802697\n",
       "..       ...       ...       ...\n",
       "95 -1.222998  0.442400  0.474286\n",
       "96 -1.107913 -0.379690  0.826240\n",
       "97  0.517636  0.990741 -0.469381\n",
       "98  1.270136 -1.421604 -0.532926\n",
       "99 -1.123784 -0.817646 -0.578862\n",
       "\n",
       "[100 rows x 3 columns]"
      ]
     },
     "execution_count": 84,
     "metadata": {},
     "output_type": "execute_result"
    }
   ],
   "source": [
    "veri[['A','C','F']] # Enes"
   ]
  },
  {
   "cell_type": "code",
   "execution_count": 85,
   "id": "cheap-springer",
   "metadata": {},
   "outputs": [],
   "source": [
    "# Soru: F kolonun 0.1'den büyük olan değerlerini seçiniz"
   ]
  },
  {
   "cell_type": "code",
   "execution_count": 87,
   "id": "cathedral-machine",
   "metadata": {},
   "outputs": [
    {
     "data": {
      "text/plain": [
       "F    50\n",
       "dtype: int64"
      ]
     },
     "execution_count": 87,
     "metadata": {},
     "output_type": "execute_result"
    }
   ],
   "source": [
    "veri[veri['F'] > 0.1][['F']].count() # Bilal"
   ]
  },
  {
   "cell_type": "code",
   "execution_count": null,
   "id": "relevant-newsletter",
   "metadata": {},
   "outputs": [],
   "source": [
    "# Soru: A kolonu 0'dan küçük VE C kolonu 0'dan büyük olan kaç tane kayıt vardır?"
   ]
  },
  {
   "cell_type": "code",
   "execution_count": 88,
   "id": "copyrighted-residence",
   "metadata": {},
   "outputs": [
    {
     "data": {
      "text/plain": [
       "A    26\n",
       "B    26\n",
       "C    26\n",
       "D    26\n",
       "E    26\n",
       "F    26\n",
       "G    26\n",
       "dtype: int64"
      ]
     },
     "execution_count": 88,
     "metadata": {},
     "output_type": "execute_result"
    }
   ],
   "source": [
    "veri[(veri['A'] < 0) & (veri['C'] > 0)].count()"
   ]
  }
 ],
 "metadata": {
  "kernelspec": {
   "display_name": "Python 3",
   "language": "python",
   "name": "python3"
  },
  "language_info": {
   "codemirror_mode": {
    "name": "ipython",
    "version": 3
   },
   "file_extension": ".py",
   "mimetype": "text/x-python",
   "name": "python",
   "nbconvert_exporter": "python",
   "pygments_lexer": "ipython3",
   "version": "3.8.8"
  }
 },
 "nbformat": 4,
 "nbformat_minor": 5
}
