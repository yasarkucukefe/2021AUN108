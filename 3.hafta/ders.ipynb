{
 "cells": [
  {
   "cell_type": "code",
   "execution_count": 1,
   "id": "tribal-boating",
   "metadata": {},
   "outputs": [],
   "source": [
    "# List comprehension"
   ]
  },
  {
   "cell_type": "code",
   "execution_count": 2,
   "id": "thrown-chemistry",
   "metadata": {},
   "outputs": [],
   "source": [
    "arkadaslar = [\"Bilal\",\"Feyza\",\"Nurullah\",\"Beyza\",\"Enes\"]\n",
    "# B ile başlayan arkadaşlar kimler?"
   ]
  },
  {
   "cell_type": "code",
   "execution_count": 6,
   "id": "european-sweet",
   "metadata": {},
   "outputs": [
    {
     "name": "stdout",
     "output_type": "stream",
     "text": [
      "['Bilal', 'Beyza']\n"
     ]
    }
   ],
   "source": [
    "# Seçenek-1 : Döngü oluşturarak\n",
    "b_ile_baslayanlar = []\n",
    "for arkadas in arkadaslar:\n",
    "    if arkadas.startswith('B'):\n",
    "        b_ile_baslayanlar.append(arkadas)\n",
    "print(b_ile_baslayanlar)"
   ]
  },
  {
   "cell_type": "code",
   "execution_count": 14,
   "id": "legislative-missile",
   "metadata": {},
   "outputs": [
    {
     "data": {
      "text/plain": [
       "['Bilal', 'Beyza']"
      ]
     },
     "execution_count": 14,
     "metadata": {},
     "output_type": "execute_result"
    }
   ],
   "source": [
    "# Seçenek-2: List comprehension\n",
    "[arkadas for arkadas in arkadaslar if arkadas.startswith('B')]"
   ]
  },
  {
   "cell_type": "code",
   "execution_count": 16,
   "id": "phantom-consequence",
   "metadata": {},
   "outputs": [],
   "source": [
    "# 1'den 100'e kadar olan sayıların 3'e kalansız bölünebilenleri hangileridir?\n",
    "rakamlar = range(1,101)"
   ]
  },
  {
   "cell_type": "code",
   "execution_count": 18,
   "id": "cutting-disability",
   "metadata": {},
   "outputs": [
    {
     "name": "stdout",
     "output_type": "stream",
     "text": [
      "[3, 6, 9, 12, 15, 18, 21, 24, 27, 30, 33, 36, 39, 42, 45, 48, 51, 54, 57, 60, 63, 66, 69, 72, 75, 78, 81, 84, 87, 90, 93, 96, 99]\n"
     ]
    }
   ],
   "source": [
    "# Seçenek-1: Döngü ile\n",
    "uce_bolunenler = []\n",
    "for rakam in rakamlar:\n",
    "    if rakam % 3 == 0:\n",
    "        uce_bolunenler.append(rakam)\n",
    "print(uce_bolunenler)"
   ]
  },
  {
   "cell_type": "code",
   "execution_count": 19,
   "id": "viral-economy",
   "metadata": {},
   "outputs": [
    {
     "name": "stdout",
     "output_type": "stream",
     "text": [
      "[3, 6, 9, 12, 15, 18, 21, 24, 27, 30, 33, 36, 39, 42, 45, 48, 51, 54, 57, 60, 63, 66, 69, 72, 75, 78, 81, 84, 87, 90, 93, 96, 99]\n"
     ]
    }
   ],
   "source": [
    "uce_bolunenler = [b for b in rakamlar if b % 3 == 0] # Bilal\n",
    "print(uce_bolunenler)"
   ]
  },
  {
   "cell_type": "code",
   "execution_count": 21,
   "id": "engaging-richards",
   "metadata": {},
   "outputs": [
    {
     "name": "stdout",
     "output_type": "stream",
     "text": [
      "[3, 6, 9, 12, 15, 18, 21, 24, 27, 30, 33, 36, 39, 42, 45, 48, 51, 54, 57, 60, 63, 66, 69, 72, 75, 78, 81, 84, 87, 90, 93, 96, 99]\n"
     ]
    }
   ],
   "source": [
    "print([rakam for rakam in rakamlar if rakam % 3 == 0]) # Enes"
   ]
  },
  {
   "cell_type": "code",
   "execution_count": 22,
   "id": "contrary-charm",
   "metadata": {},
   "outputs": [],
   "source": [
    "# LAMBDA FONKSİYONLARI\n",
    "# Genellikle tek satırdan oluşan fonksiyonlar"
   ]
  },
  {
   "cell_type": "code",
   "execution_count": 28,
   "id": "written-analyst",
   "metadata": {},
   "outputs": [],
   "source": [
    "def pisagor(a, b):\n",
    "    c = (a**2 + b**2)**(1/2)\n",
    "    return c"
   ]
  },
  {
   "cell_type": "code",
   "execution_count": 25,
   "id": "studied-settle",
   "metadata": {},
   "outputs": [
    {
     "data": {
      "text/plain": [
       "5.0"
      ]
     },
     "execution_count": 25,
     "metadata": {},
     "output_type": "execute_result"
    }
   ],
   "source": [
    "pisagor(3,4)"
   ]
  },
  {
   "cell_type": "code",
   "execution_count": 30,
   "id": "honey-coupon",
   "metadata": {},
   "outputs": [],
   "source": [
    "pisa_gor = lambda a,b: (a**2 + b**2)**(1/2)"
   ]
  },
  {
   "cell_type": "code",
   "execution_count": 29,
   "id": "spiritual-glory",
   "metadata": {},
   "outputs": [
    {
     "data": {
      "text/plain": [
       "10.0"
      ]
     },
     "execution_count": 29,
     "metadata": {},
     "output_type": "execute_result"
    }
   ],
   "source": [
    "pisa_gor(6,8)"
   ]
  },
  {
   "cell_type": "code",
   "execution_count": 35,
   "id": "tracked-prerequisite",
   "metadata": {},
   "outputs": [],
   "source": [
    "# ornek\n",
    "liste = [2,4,1,2,4,5,2,5,6,3,6]\n",
    "# yeni_liste => 2*n-1+n**2 (n: liste elemanı)\n",
    "# yeni_liste = [7, 23, ...]"
   ]
  },
  {
   "cell_type": "code",
   "execution_count": 31,
   "id": "rubber-laugh",
   "metadata": {},
   "outputs": [],
   "source": [
    "def f_islem(x):\n",
    "    return 2*x-1+x**2"
   ]
  },
  {
   "cell_type": "code",
   "execution_count": 36,
   "id": "surprising-baking",
   "metadata": {},
   "outputs": [
    {
     "name": "stdout",
     "output_type": "stream",
     "text": [
      "[7, 23, 2, 7, 23, 34, 7, 34, 47, 14, 47]\n"
     ]
    }
   ],
   "source": [
    "yeni_liste=[]\n",
    "for rakam in liste:\n",
    "    yeni_liste.append(f_islem(rakam))\n",
    "print(yeni_liste)"
   ]
  },
  {
   "cell_type": "code",
   "execution_count": 40,
   "id": "refined-potential",
   "metadata": {},
   "outputs": [
    {
     "name": "stdout",
     "output_type": "stream",
     "text": [
      "[7, 23, 2, 7, 23, 34, 7, 34, 47, 14, 47]\n"
     ]
    }
   ],
   "source": [
    "yeni_liste = list(map(f_islem, liste))\n",
    "print(yeni_liste)"
   ]
  },
  {
   "cell_type": "code",
   "execution_count": 42,
   "id": "false-software",
   "metadata": {},
   "outputs": [],
   "source": [
    "yeni_liste = list(map(lambda num: 2*num-1+num**2, liste))"
   ]
  },
  {
   "cell_type": "code",
   "execution_count": 43,
   "id": "prerequisite-incentive",
   "metadata": {},
   "outputs": [
    {
     "name": "stdout",
     "output_type": "stream",
     "text": [
      "[7, 23, 2, 7, 23, 34, 7, 34, 47, 14, 47]\n"
     ]
    }
   ],
   "source": [
    "print(yeni_liste)"
   ]
  },
  {
   "cell_type": "code",
   "execution_count": 44,
   "id": "defensive-punishment",
   "metadata": {},
   "outputs": [],
   "source": [
    "# List comprehension örnek\n",
    "liste = [\"Ali\",\"elma\",12,True,\"Mehmet\",58,False]\n",
    "# listedeki tam sayıları yeni bir listeye aktarınız?"
   ]
  },
  {
   "cell_type": "code",
   "execution_count": 48,
   "id": "ideal-lawsuit",
   "metadata": {},
   "outputs": [
    {
     "data": {
      "text/plain": [
       "True"
      ]
     },
     "execution_count": 48,
     "metadata": {},
     "output_type": "execute_result"
    }
   ],
   "source": [
    "type(liste[2]) == int"
   ]
  },
  {
   "cell_type": "code",
   "execution_count": 50,
   "id": "australian-launch",
   "metadata": {},
   "outputs": [
    {
     "data": {
      "text/plain": [
       "[12, 58]"
      ]
     },
     "execution_count": 50,
     "metadata": {},
     "output_type": "execute_result"
    }
   ],
   "source": [
    "[i for i in liste if type(i) == int or type(i) == float] # Bilal"
   ]
  },
  {
   "cell_type": "code",
   "execution_count": 51,
   "id": "parliamentary-going",
   "metadata": {},
   "outputs": [
    {
     "data": {
      "text/plain": [
       "['Ali', 'elma', 'Mehmet']"
      ]
     },
     "execution_count": 51,
     "metadata": {},
     "output_type": "execute_result"
    }
   ],
   "source": [
    "# Sadece string olanlar?\n",
    "[i for i in liste if type(i) == str] # Enes"
   ]
  },
  {
   "cell_type": "code",
   "execution_count": 53,
   "id": "realistic-alcohol",
   "metadata": {},
   "outputs": [
    {
     "data": {
      "text/plain": [
       "[True, False]"
      ]
     },
     "execution_count": 53,
     "metadata": {},
     "output_type": "execute_result"
    }
   ],
   "source": [
    "# sadece boolean olanlar? True veya False\n",
    "[i for i in liste if type(i) == bool] # Enes"
   ]
  },
  {
   "cell_type": "markdown",
   "id": "adjustable-apple",
   "metadata": {},
   "source": [
    "# Kullanışlı Operatörler"
   ]
  },
  {
   "cell_type": "code",
   "execution_count": 56,
   "id": "naval-vitamin",
   "metadata": {},
   "outputs": [
    {
     "name": "stdout",
     "output_type": "stream",
     "text": [
      "[0, 2, 4, 6, 8, 10, 12, 14, 16, 18, 20, 22, 24, 26, 28, 30, 32, 34, 36, 38, 40, 42, 44, 46, 48, 50, 52, 54, 56, 58, 60, 62, 64, 66, 68, 70, 72, 74, 76, 78, 80, 82, 84, 86, 88, 90, 92, 94, 96, 98, 100]\n"
     ]
    }
   ],
   "source": [
    "# Range\n",
    "cift_say = list(range(0,101,2))\n",
    "print(cift_say)"
   ]
  },
  {
   "cell_type": "code",
   "execution_count": 58,
   "id": "automotive-event",
   "metadata": {},
   "outputs": [],
   "source": [
    "# zip\n",
    "ulkeler = ['Turkiye','Almanya','İngiltere','Fransa']\n",
    "baskentler = ['Ankara','Berlin','Londra','Paris']"
   ]
  },
  {
   "cell_type": "code",
   "execution_count": 61,
   "id": "chicken-genesis",
   "metadata": {},
   "outputs": [
    {
     "name": "stdout",
     "output_type": "stream",
     "text": [
      "Turkiye => Ankara\n",
      "Almanya => Berlin\n",
      "İngiltere => Londra\n",
      "Fransa => Paris\n"
     ]
    }
   ],
   "source": [
    "for ulke, baskent in zip(ulkeler, baskentler):\n",
    "    print(f\"{ulke} => {baskent}\")\n",
    "    #print(\"{} => {}\".format(ulke,baskent))"
   ]
  },
  {
   "cell_type": "code",
   "execution_count": 65,
   "id": "eight-blind",
   "metadata": {},
   "outputs": [
    {
     "name": "stdout",
     "output_type": "stream",
     "text": [
      "0=>İ\n",
      "1=>s\n",
      "2=>t\n",
      "3=>a\n",
      "4=>n\n",
      "5=>b\n",
      "6=>u\n",
      "7=>l\n"
     ]
    }
   ],
   "source": [
    "#ENUMERATE\n",
    "sehir = 'İstanbul'\n",
    "index = 0\n",
    "for harf in sehir:\n",
    "    print(str(index)+\"=>\"+harf)\n",
    "    index = index + 1"
   ]
  },
  {
   "cell_type": "code",
   "execution_count": 73,
   "id": "perfect-preview",
   "metadata": {},
   "outputs": [
    {
     "name": "stdout",
     "output_type": "stream",
     "text": [
      "0=>İ\n",
      "1=>s\n",
      "2=>t\n",
      "3=>a\n",
      "4=>n\n",
      "5=>b\n",
      "6=>u\n",
      "7=>l\n"
     ]
    }
   ],
   "source": [
    "for index,haft in enumerate(sehir):\n",
    "    print(str(index)+\"=>\"+haft)"
   ]
  },
  {
   "cell_type": "code",
   "execution_count": 68,
   "id": "raised-carry",
   "metadata": {},
   "outputs": [
    {
     "data": {
      "text/plain": [
       "False"
      ]
     },
     "execution_count": 68,
     "metadata": {},
     "output_type": "execute_result"
    }
   ],
   "source": [
    "# in\n",
    "baskentler = ['Ankara','Berlin','Londra','Paris']\n",
    "'Ankara' in baskentler"
   ]
  },
  {
   "cell_type": "code",
   "execution_count": 74,
   "id": "primary-state",
   "metadata": {},
   "outputs": [
    {
     "name": "stdout",
     "output_type": "stream",
     "text": [
      "En düşük: 2, en büyük: 51\n"
     ]
    }
   ],
   "source": [
    "# Min ve Max\n",
    "rakamlar = [2,4,51,4,5,2,5,6,2]\n",
    "en_dusuk_rakam = min(rakamlar)\n",
    "en_buyuk_rakam = max(rakamlar)\n",
    "print(f\"En düşük: {str(en_dusuk_rakam)}, en büyük: {str(en_buyuk_rakam)}\")"
   ]
  },
  {
   "cell_type": "code",
   "execution_count": 131,
   "id": "dried-bullet",
   "metadata": {},
   "outputs": [
    {
     "name": "stdout",
     "output_type": "stream",
     "text": [
      "[1, 2, 2, 4, 5, 9]\n",
      "[9, 5, 4, 2, 2, 1]\n"
     ]
    }
   ],
   "source": [
    "# sort\n",
    "liste = [2,4,1,5,9,2]\n",
    "liste.sort()\n",
    "print(liste)\n",
    "liste.sort(reverse=True)\n",
    "print(liste)"
   ]
  },
  {
   "cell_type": "code",
   "execution_count": 75,
   "id": "danish-finland",
   "metadata": {},
   "outputs": [],
   "source": [
    "# Random\n",
    "import random as rand"
   ]
  },
  {
   "cell_type": "code",
   "execution_count": 80,
   "id": "rocky-belfast",
   "metadata": {},
   "outputs": [
    {
     "data": {
      "text/plain": [
       "79"
      ]
     },
     "execution_count": 80,
     "metadata": {},
     "output_type": "execute_result"
    }
   ],
   "source": [
    "rand.randint(0,100)"
   ]
  },
  {
   "cell_type": "code",
   "execution_count": 81,
   "id": "pursuant-gospel",
   "metadata": {},
   "outputs": [],
   "source": [
    "rakamlar = [2,4,51,4,5,2,5,6,2]"
   ]
  },
  {
   "cell_type": "code",
   "execution_count": 82,
   "id": "hearing-toner",
   "metadata": {},
   "outputs": [],
   "source": [
    "rand.shuffle(rakamlar)"
   ]
  },
  {
   "cell_type": "code",
   "execution_count": 83,
   "id": "cardiovascular-coverage",
   "metadata": {},
   "outputs": [
    {
     "data": {
      "text/plain": [
       "[2, 5, 6, 2, 5, 51, 4, 2, 4]"
      ]
     },
     "execution_count": 83,
     "metadata": {},
     "output_type": "execute_result"
    }
   ],
   "source": [
    "rakamlar"
   ]
  },
  {
   "cell_type": "code",
   "execution_count": 84,
   "id": "single-setup",
   "metadata": {},
   "outputs": [],
   "source": [
    "# 0 ile 100 arasında 1000 tane rasgele sayı üretiniz ve bir liste oluşturunuz."
   ]
  },
  {
   "cell_type": "code",
   "execution_count": 91,
   "id": "vital-spread",
   "metadata": {},
   "outputs": [
    {
     "data": {
      "text/plain": [
       "1000"
      ]
     },
     "execution_count": 91,
     "metadata": {},
     "output_type": "execute_result"
    }
   ],
   "source": [
    "b = [rand.randint(0,100) for i in range(1000)] # Bilal\n",
    "len(b)"
   ]
  },
  {
   "cell_type": "code",
   "execution_count": 92,
   "id": "organizational-spencer",
   "metadata": {},
   "outputs": [
    {
     "data": {
      "text/plain": [
       "[0, 1, 2, 3, 4, 5, 6, 7, 8, 9]"
      ]
     },
     "execution_count": 92,
     "metadata": {},
     "output_type": "execute_result"
    }
   ],
   "source": [
    "list(range(10))"
   ]
  },
  {
   "cell_type": "code",
   "execution_count": 93,
   "id": "informed-mortgage",
   "metadata": {},
   "outputs": [],
   "source": [
    "# Class\n",
    "class Kare:\n",
    "    def __init__(self, kenar=1):\n",
    "        self.kenar = kenar\n",
    "    \n",
    "    def cevre(self):\n",
    "        return 4*self.kenar\n",
    "    \n",
    "    def alan(self):\n",
    "        return self.kenar**2"
   ]
  },
  {
   "cell_type": "code",
   "execution_count": 94,
   "id": "incomplete-robertson",
   "metadata": {},
   "outputs": [],
   "source": [
    "kare_1 = Kare(1)"
   ]
  },
  {
   "cell_type": "code",
   "execution_count": 96,
   "id": "molecular-second",
   "metadata": {},
   "outputs": [],
   "source": [
    "alan, cevre = kare_1.alan(), kare_1.cevre()"
   ]
  },
  {
   "cell_type": "code",
   "execution_count": 98,
   "id": "ruled-variation",
   "metadata": {},
   "outputs": [
    {
     "name": "stdout",
     "output_type": "stream",
     "text": [
      "1 4\n"
     ]
    }
   ],
   "source": [
    "print(alan, cevre)"
   ]
  },
  {
   "cell_type": "code",
   "execution_count": 99,
   "id": "induced-quarter",
   "metadata": {},
   "outputs": [],
   "source": [
    "# Kodlama Alıştırması\n",
    "liste = [1,3,4,4,3,5,2,4,5,6,6,2,3,4,5]\n",
    "# Listede ardışık aynı sayı var ise True, yok ise False döndüren fonksiyon oluşturunuz?"
   ]
  },
  {
   "cell_type": "code",
   "execution_count": 100,
   "id": "billion-being",
   "metadata": {},
   "outputs": [],
   "source": [
    "# [1,3,4,4,3,5,2,4,5,6,6,2,3,4,5] => True\n",
    "# [1,3,4,3,5,2,4,5,6,2,3,4,5] => False"
   ]
  },
  {
   "cell_type": "code",
   "execution_count": 101,
   "id": "cosmetic-dealer",
   "metadata": {},
   "outputs": [],
   "source": [
    "# Mertcan\n",
    "def exists(lst):\n",
    "    for index in range(len(lst)-1):\n",
    "        if lst[index] == lst[index-1]:\n",
    "            return True\n",
    "    return False"
   ]
  },
  {
   "cell_type": "code",
   "execution_count": 102,
   "id": "equivalent-anderson",
   "metadata": {},
   "outputs": [
    {
     "data": {
      "text/plain": [
       "True"
      ]
     },
     "execution_count": 102,
     "metadata": {},
     "output_type": "execute_result"
    }
   ],
   "source": [
    "exists([1,3,4,4,3,5,2,4,5,6,6,2,3,4,1])"
   ]
  },
  {
   "cell_type": "code",
   "execution_count": 105,
   "id": "spatial-valentine",
   "metadata": {},
   "outputs": [
    {
     "data": {
      "text/plain": [
       "True"
      ]
     },
     "execution_count": 105,
     "metadata": {},
     "output_type": "execute_result"
    }
   ],
   "source": [
    "exists([1,3,4,3,5,2,4,5,6,2,3,4,5,1])"
   ]
  },
  {
   "cell_type": "code",
   "execution_count": 114,
   "id": "noble-blank",
   "metadata": {},
   "outputs": [],
   "source": [
    "# Mertcan -2\n",
    "def exists(lst):\n",
    "    for index in range(len(lst)-1):\n",
    "        if lst[index] == lst[index+1]:\n",
    "            return True\n",
    "    return False"
   ]
  },
  {
   "cell_type": "code",
   "execution_count": 115,
   "id": "serial-arrival",
   "metadata": {},
   "outputs": [
    {
     "data": {
      "text/plain": [
       "False"
      ]
     },
     "execution_count": 115,
     "metadata": {},
     "output_type": "execute_result"
    }
   ],
   "source": [
    "exists([1,3,4,3,5,2,4,5,6,2,3,4,5,1])"
   ]
  },
  {
   "cell_type": "code",
   "execution_count": 116,
   "id": "serial-finish",
   "metadata": {},
   "outputs": [
    {
     "data": {
      "text/plain": [
       "True"
      ]
     },
     "execution_count": 116,
     "metadata": {},
     "output_type": "execute_result"
    }
   ],
   "source": [
    "exists([1,3,4,4,3,5,2,4,5,6,2,3,4,5])"
   ]
  },
  {
   "cell_type": "code",
   "execution_count": 117,
   "id": "changing-donor",
   "metadata": {},
   "outputs": [
    {
     "data": {
      "text/plain": [
       "True"
      ]
     },
     "execution_count": 117,
     "metadata": {},
     "output_type": "execute_result"
    }
   ],
   "source": [
    "exists([1,3,4,3,5,2,4,5,6,2,3,4,4])"
   ]
  },
  {
   "cell_type": "code",
   "execution_count": 111,
   "id": "marine-shield",
   "metadata": {},
   "outputs": [],
   "source": [
    "index = 5\n",
    "liste = [1,3,4,3,5,6]"
   ]
  },
  {
   "cell_type": "code",
   "execution_count": 113,
   "id": "modern-station",
   "metadata": {},
   "outputs": [
    {
     "data": {
      "text/plain": [
       "[0, 1, 2, 3, 4]"
      ]
     },
     "execution_count": 113,
     "metadata": {},
     "output_type": "execute_result"
    }
   ],
   "source": [
    "list(range(len(liste)-1))"
   ]
  },
  {
   "cell_type": "code",
   "execution_count": 118,
   "id": "multiple-luther",
   "metadata": {},
   "outputs": [
    {
     "data": {
      "text/plain": [
       "[1, 3, 4, 3, 5, 6]"
      ]
     },
     "execution_count": 118,
     "metadata": {},
     "output_type": "execute_result"
    }
   ],
   "source": [
    "# Liste elemanlarına erişim\n",
    "liste"
   ]
  },
  {
   "cell_type": "code",
   "execution_count": 119,
   "id": "operational-missile",
   "metadata": {},
   "outputs": [
    {
     "data": {
      "text/plain": [
       "[1, 3, 4]"
      ]
     },
     "execution_count": 119,
     "metadata": {},
     "output_type": "execute_result"
    }
   ],
   "source": [
    "liste[0:3]"
   ]
  },
  {
   "cell_type": "code",
   "execution_count": 122,
   "id": "federal-yukon",
   "metadata": {},
   "outputs": [
    {
     "data": {
      "text/plain": [
       "6"
      ]
     },
     "execution_count": 122,
     "metadata": {},
     "output_type": "execute_result"
    }
   ],
   "source": [
    "liste[-1]"
   ]
  },
  {
   "cell_type": "code",
   "execution_count": 123,
   "id": "sweet-antique",
   "metadata": {},
   "outputs": [
    {
     "data": {
      "text/plain": [
       "5"
      ]
     },
     "execution_count": 123,
     "metadata": {},
     "output_type": "execute_result"
    }
   ],
   "source": [
    "liste[-2]"
   ]
  },
  {
   "cell_type": "code",
   "execution_count": 124,
   "id": "eleven-disclosure",
   "metadata": {},
   "outputs": [
    {
     "data": {
      "text/plain": [
       "[5, 6]"
      ]
     },
     "execution_count": 124,
     "metadata": {},
     "output_type": "execute_result"
    }
   ],
   "source": [
    "liste[-2:]"
   ]
  },
  {
   "cell_type": "code",
   "execution_count": 135,
   "id": "popular-fitting",
   "metadata": {},
   "outputs": [
    {
     "name": "stdout",
     "output_type": "stream",
     "text": [
      "<class 'tuple'>\n"
     ]
    }
   ],
   "source": [
    "degisken = (1,2,4,5,'test',23)\n",
    "print(type(degisken))\n",
    "# list?, tuple?"
   ]
  },
  {
   "cell_type": "code",
   "execution_count": 136,
   "id": "employed-vehicle",
   "metadata": {},
   "outputs": [
    {
     "name": "stdout",
     "output_type": "stream",
     "text": [
      "<class 'set'>\n"
     ]
    }
   ],
   "source": [
    "degisken = {3, 1, 4, 5, 'Ali', False}\n",
    "print(type(degisken))"
   ]
  },
  {
   "cell_type": "code",
   "execution_count": 137,
   "id": "experienced-submission",
   "metadata": {},
   "outputs": [
    {
     "name": "stdout",
     "output_type": "stream",
     "text": [
      "<class 'dict'>\n"
     ]
    }
   ],
   "source": [
    "degisken = {'a':12, 'b':14, 'c':10}\n",
    "print(type(degisken))"
   ]
  },
  {
   "cell_type": "code",
   "execution_count": 138,
   "id": "generic-fever",
   "metadata": {},
   "outputs": [
    {
     "name": "stdout",
     "output_type": "stream",
     "text": [
      "<class 'list'>\n"
     ]
    }
   ],
   "source": [
    "degisken = [12, 'elma', 20, True]\n",
    "print(type(degisken))"
   ]
  },
  {
   "cell_type": "code",
   "execution_count": 152,
   "id": "juvenile-shift",
   "metadata": {},
   "outputs": [],
   "source": [
    "# Mertcan'ın Alıştırma Sorusu\n",
    "liste = [5, 4, 7, 9]\n",
    "# fonksiyon (liste) => [9, 7, 4, 5]"
   ]
  },
  {
   "cell_type": "code",
   "execution_count": 142,
   "id": "institutional-diesel",
   "metadata": {},
   "outputs": [
    {
     "name": "stdout",
     "output_type": "stream",
     "text": [
      "[5, 4, 7, 9]\n"
     ]
    }
   ],
   "source": [
    "print(liste[-4:])"
   ]
  },
  {
   "cell_type": "code",
   "execution_count": 150,
   "id": "lesbian-stock",
   "metadata": {},
   "outputs": [
    {
     "name": "stdout",
     "output_type": "stream",
     "text": [
      "[9, 7, 5, 4]\n"
     ]
    }
   ],
   "source": [
    "liste.sort(reverse=True)\n",
    "print(liste)"
   ]
  },
  {
   "cell_type": "code",
   "execution_count": 153,
   "id": "initial-kennedy",
   "metadata": {},
   "outputs": [
    {
     "name": "stdout",
     "output_type": "stream",
     "text": [
      "[9, 7, 4, 5]\n"
     ]
    }
   ],
   "source": [
    "liste.reverse() #Bilal\n",
    "print(liste)"
   ]
  },
  {
   "cell_type": "code",
   "execution_count": 156,
   "id": "otherwise-clear",
   "metadata": {},
   "outputs": [],
   "source": [
    "# Bilal\n",
    "def rever(lis):\n",
    "    newlist = []\n",
    "    for i in range(len(lis)-1, -1, -1):\n",
    "        newlist.append(lis[i])        \n",
    "    return newlist"
   ]
  },
  {
   "cell_type": "code",
   "execution_count": 157,
   "id": "appropriate-touch",
   "metadata": {},
   "outputs": [
    {
     "data": {
      "text/plain": [
       "[9, 7, 4, 5]"
      ]
     },
     "execution_count": 157,
     "metadata": {},
     "output_type": "execute_result"
    }
   ],
   "source": [
    "rever([5, 4, 7, 9])"
   ]
  },
  {
   "cell_type": "code",
   "execution_count": 161,
   "id": "asian-bathroom",
   "metadata": {},
   "outputs": [],
   "source": [
    "# Mertcan\n",
    "def reverse(lst):\n",
    "    print(lst)\n",
    "    for index in range(int(len(lst)/2)):\n",
    "        print(\"----\")\n",
    "        cache = lst[index]\n",
    "        print(str(cache))\n",
    "        lst[index] = lst[len(lst)-index-1]\n",
    "        lst[len(lst)-index-1] = cache\n",
    "        print(lst)"
   ]
  },
  {
   "cell_type": "code",
   "execution_count": 160,
   "id": "traditional-borough",
   "metadata": {},
   "outputs": [
    {
     "name": "stdout",
     "output_type": "stream",
     "text": [
      "[100, 99, 98, 97, 96, 95, 94, 93, 92, 91, 90, 89, 88, 87, 86, 85, 84, 83, 82, 81, 80, 79, 78, 77, 76, 75, 74, 73, 72, 71, 70, 69, 68, 67, 66, 65, 64, 63, 62, 61, 60, 59, 58, 57, 56, 55, 54, 53, 52, 51, 50, 49, 48, 47, 46, 45, 44, 43, 42, 41, 40, 39, 38, 37, 36, 35, 34, 33, 32, 31, 30, 29, 28, 27, 26, 25, 24, 23, 22, 21, 20, 19, 18, 17, 16, 15, 14, 13, 12, 11, 10, 9, 8, 7, 6, 5, 4, 3, 2, 1, 0]\n"
     ]
    }
   ],
   "source": [
    "print(list(range(100,-1,-1)))"
   ]
  },
  {
   "cell_type": "code",
   "execution_count": 163,
   "id": "located-farming",
   "metadata": {},
   "outputs": [
    {
     "name": "stdout",
     "output_type": "stream",
     "text": [
      "[2, 4, 3, 7, 5]\n",
      "----\n",
      "2\n",
      "[5, 4, 3, 7, 2]\n",
      "----\n",
      "4\n",
      "[5, 7, 3, 4, 2]\n"
     ]
    }
   ],
   "source": [
    "liste=[2,4,3,7,5]\n",
    "reverse(liste)"
   ]
  },
  {
   "cell_type": "code",
   "execution_count": null,
   "id": "every-latino",
   "metadata": {},
   "outputs": [],
   "source": [
    "# Lambda alıştırması\n",
    "# Rakamlardan oluşan bir listenin elemanlarını 2 ile çarpın ve yeni bir liste oluşturunuz.\n",
    "# [3,4,5,6] =>islem=> [6, 8, 10, 12]"
   ]
  },
  {
   "cell_type": "code",
   "execution_count": 165,
   "id": "satellite-minority",
   "metadata": {},
   "outputs": [
    {
     "name": "stdout",
     "output_type": "stream",
     "text": [
      "[4, 8, 6, 14, 10]\n"
     ]
    }
   ],
   "source": [
    "liste=[2,4,3,7,5]\n",
    "# Bilal\n",
    "print(list(map(lambda i: i*2, liste)))"
   ]
  },
  {
   "cell_type": "code",
   "execution_count": 166,
   "id": "capable-athletics",
   "metadata": {},
   "outputs": [],
   "source": [
    "# List comprehension\n",
    "metin = \"Metni oluşturan en büyük yapı paragraftır. Düzyazılarda genellikle satır başlarıyla birbirlerinden ayrılan bölümlerin her birine paragraf adı verilir. Paragrafın oluşumu konuyla doğrudan ilgilidir. Çünkü yazar, duygu ve düşüncelerini bir olay ve olgudan hareketle anlatır. Ele aldığı konuyu, amacına göre sınırlayıp birbiriyle ilintili paragraflar hâlinde verir. Bu, metin oluşturulurken uyulması gereken en önemli kurallardan biridir.\""
   ]
  },
  {
   "cell_type": "code",
   "execution_count": 167,
   "id": "valid-scheme",
   "metadata": {},
   "outputs": [
    {
     "name": "stdout",
     "output_type": "stream",
     "text": [
      "Metni oluşturan en büyük yapı paragraftır. Düzyazılarda genellikle satır başlarıyla birbirlerinden ayrılan bölümlerin her birine paragraf adı verilir. Paragrafın oluşumu konuyla doğrudan ilgilidir. Çünkü yazar, duygu ve düşüncelerini bir olay ve olgudan hareketle anlatır. Ele aldığı konuyu, amacına göre sınırlayıp birbiriyle ilintili paragraflar hâlinde verir. Bu, metin oluşturulurken uyulması gereken en önemli kurallardan biridir.\n"
     ]
    }
   ],
   "source": [
    "print(metin)"
   ]
  },
  {
   "cell_type": "code",
   "execution_count": 168,
   "id": "sealed-wyoming",
   "metadata": {},
   "outputs": [],
   "source": [
    "# Paragrafta en uzun kelime (harf sayısı) hangisidir?"
   ]
  },
  {
   "cell_type": "code",
   "execution_count": null,
   "id": "mental-damage",
   "metadata": {},
   "outputs": [],
   "source": []
  }
 ],
 "metadata": {
  "kernelspec": {
   "display_name": "Python 3",
   "language": "python",
   "name": "python3"
  },
  "language_info": {
   "codemirror_mode": {
    "name": "ipython",
    "version": 3
   },
   "file_extension": ".py",
   "mimetype": "text/x-python",
   "name": "python",
   "nbconvert_exporter": "python",
   "pygments_lexer": "ipython3",
   "version": "3.8.8"
  }
 },
 "nbformat": 4,
 "nbformat_minor": 5
}
