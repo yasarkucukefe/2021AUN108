{
 "cells": [
  {
   "cell_type": "code",
   "execution_count": 1,
   "id": "stuffed-happening",
   "metadata": {},
   "outputs": [],
   "source": [
    "# List comprehension"
   ]
  },
  {
   "cell_type": "code",
   "execution_count": 2,
   "id": "civil-sixth",
   "metadata": {},
   "outputs": [],
   "source": [
    "arkadaslar = [\"Bilal\",\"Feyza\",\"Nurullah\",\"Beyza\",\"Enes\"]\n",
    "# B ile başlayan arkadaşlar kimler?"
   ]
  },
  {
   "cell_type": "code",
   "execution_count": 6,
   "id": "protecting-bhutan",
   "metadata": {},
   "outputs": [
    {
     "name": "stdout",
     "output_type": "stream",
     "text": [
      "['Bilal', 'Beyza']\n"
     ]
    }
   ],
   "source": [
    "# Seçenek-1 : Döngü oluşturarak\n",
    "b_ile_baslayanlar = []\n",
    "for arkadas in arkadaslar:\n",
    "    if arkadas.startswith('B'):\n",
    "        b_ile_baslayanlar.append(arkadas)\n",
    "print(b_ile_baslayanlar)"
   ]
  },
  {
   "cell_type": "code",
   "execution_count": 14,
   "id": "proud-heading",
   "metadata": {},
   "outputs": [
    {
     "data": {
      "text/plain": [
       "['Bilal', 'Beyza']"
      ]
     },
     "execution_count": 14,
     "metadata": {},
     "output_type": "execute_result"
    }
   ],
   "source": [
    "# Seçenek-2: List comprehension\n",
    "[arkadas for arkadas in arkadaslar if arkadas.startswith('B')]"
   ]
  },
  {
   "cell_type": "code",
   "execution_count": 16,
   "id": "subsequent-delicious",
   "metadata": {},
   "outputs": [],
   "source": [
    "# 1'den 100'e kadar olan sayıların 3'e kalansız bölünebilenleri hangileridir?\n",
    "rakamlar = range(1,101)"
   ]
  },
  {
   "cell_type": "code",
   "execution_count": 18,
   "id": "exterior-trust",
   "metadata": {},
   "outputs": [
    {
     "name": "stdout",
     "output_type": "stream",
     "text": [
      "[3, 6, 9, 12, 15, 18, 21, 24, 27, 30, 33, 36, 39, 42, 45, 48, 51, 54, 57, 60, 63, 66, 69, 72, 75, 78, 81, 84, 87, 90, 93, 96, 99]\n"
     ]
    }
   ],
   "source": [
    "# Seçenek-1: Döngü ile\n",
    "uce_bolunenler = []\n",
    "for rakam in rakamlar:\n",
    "    if rakam % 3 == 0:\n",
    "        uce_bolunenler.append(rakam)\n",
    "print(uce_bolunenler)"
   ]
  },
  {
   "cell_type": "code",
   "execution_count": 19,
   "id": "hydraulic-alignment",
   "metadata": {},
   "outputs": [
    {
     "name": "stdout",
     "output_type": "stream",
     "text": [
      "[3, 6, 9, 12, 15, 18, 21, 24, 27, 30, 33, 36, 39, 42, 45, 48, 51, 54, 57, 60, 63, 66, 69, 72, 75, 78, 81, 84, 87, 90, 93, 96, 99]\n"
     ]
    }
   ],
   "source": [
    "uce_bolunenler = [b for b in rakamlar if b % 3 == 0] # Bilal\n",
    "print(uce_bolunenler)"
   ]
  },
  {
   "cell_type": "code",
   "execution_count": 21,
   "id": "composite-north",
   "metadata": {},
   "outputs": [
    {
     "name": "stdout",
     "output_type": "stream",
     "text": [
      "[3, 6, 9, 12, 15, 18, 21, 24, 27, 30, 33, 36, 39, 42, 45, 48, 51, 54, 57, 60, 63, 66, 69, 72, 75, 78, 81, 84, 87, 90, 93, 96, 99]\n"
     ]
    }
   ],
   "source": [
    "print([rakam for rakam in rakamlar if rakam % 3 == 0]) # Enes"
   ]
  },
  {
   "cell_type": "code",
   "execution_count": 22,
   "id": "second-tribune",
   "metadata": {},
   "outputs": [],
   "source": [
    "# LAMBDA FONKSİYONLARI\n",
    "# Genellikle tek satırdan oluşan fonksiyonlar"
   ]
  },
  {
   "cell_type": "code",
   "execution_count": 28,
   "id": "photographic-defeat",
   "metadata": {},
   "outputs": [],
   "source": [
    "def pisagor(a, b):\n",
    "    c = (a**2 + b**2)**(1/2)\n",
    "    return c"
   ]
  },
  {
   "cell_type": "code",
   "execution_count": 25,
   "id": "million-runner",
   "metadata": {},
   "outputs": [
    {
     "data": {
      "text/plain": [
       "5.0"
      ]
     },
     "execution_count": 25,
     "metadata": {},
     "output_type": "execute_result"
    }
   ],
   "source": [
    "pisagor(3,4)"
   ]
  },
  {
   "cell_type": "code",
   "execution_count": 30,
   "id": "growing-doubt",
   "metadata": {},
   "outputs": [],
   "source": [
    "pisa_gor = lambda a,b: (a**2 + b**2)**(1/2)"
   ]
  },
  {
   "cell_type": "code",
   "execution_count": 29,
   "id": "superior-anime",
   "metadata": {},
   "outputs": [
    {
     "data": {
      "text/plain": [
       "10.0"
      ]
     },
     "execution_count": 29,
     "metadata": {},
     "output_type": "execute_result"
    }
   ],
   "source": [
    "pisa_gor(6,8)"
   ]
  },
  {
   "cell_type": "code",
   "execution_count": 35,
   "id": "regulation-disposal",
   "metadata": {},
   "outputs": [],
   "source": [
    "# ornek\n",
    "liste = [2,4,1,2,4,5,2,5,6,3,6]\n",
    "# yeni_liste => 2*n-1+n**2 (n: liste elemanı)\n",
    "# yeni_liste = [7, 23, ...]"
   ]
  },
  {
   "cell_type": "code",
   "execution_count": 31,
   "id": "hourly-continuity",
   "metadata": {},
   "outputs": [],
   "source": [
    "def f_islem(x):\n",
    "    return 2*x-1+x**2"
   ]
  },
  {
   "cell_type": "code",
   "execution_count": 36,
   "id": "responsible-cable",
   "metadata": {},
   "outputs": [
    {
     "name": "stdout",
     "output_type": "stream",
     "text": [
      "[7, 23, 2, 7, 23, 34, 7, 34, 47, 14, 47]\n"
     ]
    }
   ],
   "source": [
    "yeni_liste=[]\n",
    "for rakam in liste:\n",
    "    yeni_liste.append(f_islem(rakam))\n",
    "print(yeni_liste)"
   ]
  },
  {
   "cell_type": "code",
   "execution_count": 40,
   "id": "latter-spain",
   "metadata": {},
   "outputs": [
    {
     "name": "stdout",
     "output_type": "stream",
     "text": [
      "[7, 23, 2, 7, 23, 34, 7, 34, 47, 14, 47]\n"
     ]
    }
   ],
   "source": [
    "yeni_liste = list(map(f_islem, liste))\n",
    "print(yeni_liste)"
   ]
  },
  {
   "cell_type": "code",
   "execution_count": 42,
   "id": "latter-antarctica",
   "metadata": {},
   "outputs": [],
   "source": [
    "yeni_liste = list(map(lambda num: 2*num-1+num**2, liste))"
   ]
  },
  {
   "cell_type": "code",
   "execution_count": 43,
   "id": "national-porter",
   "metadata": {},
   "outputs": [
    {
     "name": "stdout",
     "output_type": "stream",
     "text": [
      "[7, 23, 2, 7, 23, 34, 7, 34, 47, 14, 47]\n"
     ]
    }
   ],
   "source": [
    "print(yeni_liste)"
   ]
  },
  {
   "cell_type": "code",
   "execution_count": 44,
   "id": "hearing-freeware",
   "metadata": {},
   "outputs": [],
   "source": [
    "# List comprehension örnek\n",
    "liste = [\"Ali\",\"elma\",12,True,\"Mehmet\",58,False]\n",
    "# listedeki tam sayıları yeni bir listeye aktarınız?"
   ]
  },
  {
   "cell_type": "code",
   "execution_count": 48,
   "id": "practical-agreement",
   "metadata": {},
   "outputs": [
    {
     "data": {
      "text/plain": [
       "True"
      ]
     },
     "execution_count": 48,
     "metadata": {},
     "output_type": "execute_result"
    }
   ],
   "source": [
    "type(liste[2]) == int"
   ]
  },
  {
   "cell_type": "code",
   "execution_count": 50,
   "id": "social-substitute",
   "metadata": {},
   "outputs": [
    {
     "data": {
      "text/plain": [
       "[12, 58]"
      ]
     },
     "execution_count": 50,
     "metadata": {},
     "output_type": "execute_result"
    }
   ],
   "source": [
    "[i for i in liste if type(i) == int or type(i) == float] # Bilal"
   ]
  },
  {
   "cell_type": "code",
   "execution_count": 51,
   "id": "apart-kernel",
   "metadata": {},
   "outputs": [
    {
     "data": {
      "text/plain": [
       "['Ali', 'elma', 'Mehmet']"
      ]
     },
     "execution_count": 51,
     "metadata": {},
     "output_type": "execute_result"
    }
   ],
   "source": [
    "# Sadece string olanlar?\n",
    "[i for i in liste if type(i) == str] # Enes"
   ]
  },
  {
   "cell_type": "code",
   "execution_count": 53,
   "id": "adjusted-photograph",
   "metadata": {},
   "outputs": [
    {
     "data": {
      "text/plain": [
       "[True, False]"
      ]
     },
     "execution_count": 53,
     "metadata": {},
     "output_type": "execute_result"
    }
   ],
   "source": [
    "# sadece boolean olanlar? True veya False\n",
    "[i for i in liste if type(i) == bool] # Enes"
   ]
  },
  {
   "cell_type": "markdown",
   "id": "suffering-chocolate",
   "metadata": {},
   "source": [
    "# Kullanışlı Operatörler"
   ]
  },
  {
   "cell_type": "code",
   "execution_count": 56,
   "id": "enabling-regulation",
   "metadata": {},
   "outputs": [
    {
     "name": "stdout",
     "output_type": "stream",
     "text": [
      "[0, 2, 4, 6, 8, 10, 12, 14, 16, 18, 20, 22, 24, 26, 28, 30, 32, 34, 36, 38, 40, 42, 44, 46, 48, 50, 52, 54, 56, 58, 60, 62, 64, 66, 68, 70, 72, 74, 76, 78, 80, 82, 84, 86, 88, 90, 92, 94, 96, 98, 100]\n"
     ]
    }
   ],
   "source": [
    "# Range\n",
    "cift_say = list(range(0,101,2))\n",
    "print(cift_say)"
   ]
  },
  {
   "cell_type": "code",
   "execution_count": 58,
   "id": "realistic-mayor",
   "metadata": {},
   "outputs": [],
   "source": [
    "# zip\n",
    "ulkeler = ['Turkiye','Almanya','İngiltere','Fransa']\n",
    "baskentler = ['Ankara','Berlin','Londra','Paris']"
   ]
  },
  {
   "cell_type": "code",
   "execution_count": 61,
   "id": "weird-indie",
   "metadata": {},
   "outputs": [
    {
     "name": "stdout",
     "output_type": "stream",
     "text": [
      "Turkiye => Ankara\n",
      "Almanya => Berlin\n",
      "İngiltere => Londra\n",
      "Fransa => Paris\n"
     ]
    }
   ],
   "source": [
    "for ulke, baskent in zip(ulkeler, baskentler):\n",
    "    print(f\"{ulke} => {baskent}\")\n",
    "    #print(\"{} => {}\".format(ulke,baskent))"
   ]
  },
  {
   "cell_type": "code",
   "execution_count": 65,
   "id": "established-elizabeth",
   "metadata": {},
   "outputs": [
    {
     "name": "stdout",
     "output_type": "stream",
     "text": [
      "0=>İ\n",
      "1=>s\n",
      "2=>t\n",
      "3=>a\n",
      "4=>n\n",
      "5=>b\n",
      "6=>u\n",
      "7=>l\n"
     ]
    }
   ],
   "source": [
    "#ENUMERATE\n",
    "sehir = 'İstanbul'\n",
    "index = 0\n",
    "for harf in sehir:\n",
    "    print(str(index)+\"=>\"+harf)\n",
    "    index = index + 1"
   ]
  },
  {
   "cell_type": "code",
   "execution_count": 73,
   "id": "compound-synthetic",
   "metadata": {},
   "outputs": [
    {
     "name": "stdout",
     "output_type": "stream",
     "text": [
      "0=>İ\n",
      "1=>s\n",
      "2=>t\n",
      "3=>a\n",
      "4=>n\n",
      "5=>b\n",
      "6=>u\n",
      "7=>l\n"
     ]
    }
   ],
   "source": [
    "for index,haft in enumerate(sehir):\n",
    "    print(str(index)+\"=>\"+haft)"
   ]
  },
  {
   "cell_type": "code",
   "execution_count": 68,
   "id": "solid-photographer",
   "metadata": {},
   "outputs": [
    {
     "data": {
      "text/plain": [
       "False"
      ]
     },
     "execution_count": 68,
     "metadata": {},
     "output_type": "execute_result"
    }
   ],
   "source": [
    "# in\n",
    "baskentler = ['Ankara','Berlin','Londra','Paris']\n",
    "'Ankara' in baskentler"
   ]
  },
  {
   "cell_type": "code",
   "execution_count": 74,
   "id": "simple-diamond",
   "metadata": {},
   "outputs": [
    {
     "name": "stdout",
     "output_type": "stream",
     "text": [
      "En düşük: 2, en büyük: 51\n"
     ]
    }
   ],
   "source": [
    "# Min ve Max\n",
    "rakamlar = [2,4,51,4,5,2,5,6,2]\n",
    "en_dusuk_rakam = min(rakamlar)\n",
    "en_buyuk_rakam = max(rakamlar)\n",
    "print(f\"En düşük: {str(en_dusuk_rakam)}, en büyük: {str(en_buyuk_rakam)}\")"
   ]
  },
  {
   "cell_type": "code",
   "execution_count": 75,
   "id": "deluxe-thong",
   "metadata": {},
   "outputs": [],
   "source": [
    "# Random\n",
    "import random as rand"
   ]
  },
  {
   "cell_type": "code",
   "execution_count": 80,
   "id": "matched-warner",
   "metadata": {},
   "outputs": [
    {
     "data": {
      "text/plain": [
       "79"
      ]
     },
     "execution_count": 80,
     "metadata": {},
     "output_type": "execute_result"
    }
   ],
   "source": [
    "rand.randint(0,100)"
   ]
  },
  {
   "cell_type": "code",
   "execution_count": 81,
   "id": "fifteen-mapping",
   "metadata": {},
   "outputs": [],
   "source": [
    "rakamlar = [2,4,51,4,5,2,5,6,2]"
   ]
  },
  {
   "cell_type": "code",
   "execution_count": 82,
   "id": "grave-lending",
   "metadata": {},
   "outputs": [],
   "source": [
    "rand.shuffle(rakamlar)"
   ]
  },
  {
   "cell_type": "code",
   "execution_count": 83,
   "id": "descending-mechanics",
   "metadata": {},
   "outputs": [
    {
     "data": {
      "text/plain": [
       "[2, 5, 6, 2, 5, 51, 4, 2, 4]"
      ]
     },
     "execution_count": 83,
     "metadata": {},
     "output_type": "execute_result"
    }
   ],
   "source": [
    "rakamlar"
   ]
  },
  {
   "cell_type": "code",
   "execution_count": 84,
   "id": "military-blend",
   "metadata": {},
   "outputs": [],
   "source": [
    "# 0 ile 100 arasında 1000 tane rasgele sayı üretiniz ve bir liste oluşturunuz."
   ]
  },
  {
   "cell_type": "code",
   "execution_count": 91,
   "id": "brave-robin",
   "metadata": {},
   "outputs": [
    {
     "data": {
      "text/plain": [
       "1000"
      ]
     },
     "execution_count": 91,
     "metadata": {},
     "output_type": "execute_result"
    }
   ],
   "source": [
    "b = [rand.randint(0,100) for i in range(1000)] # Bilal\n",
    "len(b)"
   ]
  },
  {
   "cell_type": "code",
   "execution_count": 92,
   "id": "liable-tenant",
   "metadata": {},
   "outputs": [
    {
     "data": {
      "text/plain": [
       "[0, 1, 2, 3, 4, 5, 6, 7, 8, 9]"
      ]
     },
     "execution_count": 92,
     "metadata": {},
     "output_type": "execute_result"
    }
   ],
   "source": [
    "list(range(10))"
   ]
  }
 ],
 "metadata": {
  "kernelspec": {
   "display_name": "Python 3",
   "language": "python",
   "name": "python3"
  },
  "language_info": {
   "codemirror_mode": {
    "name": "ipython",
    "version": 3
   },
   "file_extension": ".py",
   "mimetype": "text/x-python",
   "name": "python",
   "nbconvert_exporter": "python",
   "pygments_lexer": "ipython3",
   "version": "3.8.8"
  }
 },
 "nbformat": 4,
 "nbformat_minor": 5
}
