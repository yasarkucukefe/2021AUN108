{
 "cells": [
  {
   "cell_type": "code",
   "execution_count": 7,
   "id": "incident-express",
   "metadata": {},
   "outputs": [],
   "source": [
    "# range 1'den 100'e kadar 3'er artan sayılar: 1, 4, 7...\n",
    "range(1, 100, 3)\n",
    "a = list(range(1, 100, 3))"
   ]
  },
  {
   "cell_type": "code",
   "execution_count": 8,
   "id": "subject-warrior",
   "metadata": {},
   "outputs": [],
   "source": [
    "# range 3'ten 50'ye kadar 4'er artan sayılar, 3, 7, 11\n",
    "b = list(range(0, 100, 2))"
   ]
  },
  {
   "cell_type": "code",
   "execution_count": 9,
   "id": "direct-yorkshire",
   "metadata": {},
   "outputs": [
    {
     "name": "stdout",
     "output_type": "stream",
     "text": [
      "[1, 4, 7, 10, 13, 16, 19, 22, 25, 28, 31, 34, 37, 40, 43, 46, 49, 52, 55, 58, 61, 64, 67, 70, 73, 76, 79, 82, 85, 88, 91, 94, 97]\n"
     ]
    }
   ],
   "source": [
    "print(a)"
   ]
  },
  {
   "cell_type": "code",
   "execution_count": 10,
   "id": "challenging-aruba",
   "metadata": {},
   "outputs": [
    {
     "name": "stdout",
     "output_type": "stream",
     "text": [
      "[0, 2, 4, 6, 8, 10, 12, 14, 16, 18, 20, 22, 24, 26, 28, 30, 32, 34, 36, 38, 40, 42, 44, 46, 48, 50, 52, 54, 56, 58, 60, 62, 64, 66, 68, 70, 72, 74, 76, 78, 80, 82, 84, 86, 88, 90, 92, 94, 96, 98]\n"
     ]
    }
   ],
   "source": [
    "print(b)"
   ]
  },
  {
   "cell_type": "code",
   "execution_count": 15,
   "id": "double-evans",
   "metadata": {},
   "outputs": [
    {
     "data": {
      "text/plain": [
       "{4, 10, 16, 22, 28, 34, 40, 46, 52, 58, 64, 70, 76, 82, 88, 94}"
      ]
     },
     "execution_count": 15,
     "metadata": {},
     "output_type": "execute_result"
    }
   ],
   "source": [
    "# a ve b listelerinin ortak elemanları hangileridir?\n",
    "set(a).intersection(set(b))"
   ]
  },
  {
   "cell_type": "code",
   "execution_count": 17,
   "id": "amazing-baker",
   "metadata": {},
   "outputs": [
    {
     "data": {
      "text/plain": [
       "[4, 10, 16, 22, 28, 34, 40, 46, 52, 58, 64, 70, 76, 82, 88, 94]"
      ]
     },
     "execution_count": 17,
     "metadata": {},
     "output_type": "execute_result"
    }
   ],
   "source": [
    "[x for x in a if x in b]"
   ]
  },
  {
   "cell_type": "markdown",
   "id": "passing-acquisition",
   "metadata": {},
   "source": [
    "# ---"
   ]
  },
  {
   "cell_type": "code",
   "execution_count": 19,
   "id": "challenging-concentrate",
   "metadata": {},
   "outputs": [
    {
     "name": "stdout",
     "output_type": "stream",
     "text": [
      "[1, 4, 7, 10, 13, 16, 19, 22, 25, 28, 31, 34, 37, 40, 43, 46, 49, 52, 55, 58, 61, 64, 67, 70, 73, 76, 79, 82, 85, 88, 91, 94, 97]\n"
     ]
    }
   ],
   "source": [
    "print(a)"
   ]
  },
  {
   "cell_type": "code",
   "execution_count": null,
   "id": "dependent-basket",
   "metadata": {},
   "outputs": [],
   "source": [
    "# a'nın elemanlarını 2 ile çarpımı [2,8, 14, ...]"
   ]
  },
  {
   "cell_type": "code",
   "execution_count": 22,
   "id": "automatic-physiology",
   "metadata": {},
   "outputs": [
    {
     "name": "stdout",
     "output_type": "stream",
     "text": [
      "[2, 8, 14, 20, 26, 32, 38, 44, 50, 56, 62, 68, 74, 80, 86, 92, 98, 104, 110, 116, 122, 128, 134, 140, 146, 152, 158, 164, 170, 176, 182, 188, 194]\n"
     ]
    }
   ],
   "source": [
    "print([2*x for x in a])"
   ]
  },
  {
   "cell_type": "code",
   "execution_count": 25,
   "id": "allied-provision",
   "metadata": {},
   "outputs": [
    {
     "name": "stdout",
     "output_type": "stream",
     "text": [
      "[2, 8, 14, 20, 26, 32, 38, 44, 50, 56, 62, 68, 74, 80, 86, 92, 98, 104, 110, 116, 122, 128, 134, 140, 146, 152, 158, 164, 170, 176, 182, 188, 194]\n"
     ]
    }
   ],
   "source": [
    "yeni = []\n",
    "for rakam in a:\n",
    "    yeni.append(2*rakam)\n",
    "print(yeni)"
   ]
  },
  {
   "cell_type": "code",
   "execution_count": 26,
   "id": "moral-engagement",
   "metadata": {},
   "outputs": [
    {
     "name": "stdout",
     "output_type": "stream",
     "text": [
      "[2, 8, 14, 20, 26, 32, 38, 44, 50, 56, 62, 68, 74, 80, 86, 92, 98, 104, 110, 116, 122, 128, 134, 140, 146, 152, 158, 164, 170, 176, 182, 188, 194]\n"
     ]
    }
   ],
   "source": [
    "# Mertcan'ın cevabı\n",
    "for index in range(len(a)):\n",
    "    a[index] = a[index]*2\n",
    "print(a)"
   ]
  },
  {
   "cell_type": "code",
   "execution_count": 31,
   "id": "important-backing",
   "metadata": {},
   "outputs": [
    {
     "name": "stdout",
     "output_type": "stream",
     "text": [
      "0 4\n",
      "1 16\n",
      "2 28\n",
      "3 40\n",
      "4 52\n",
      "5 64\n",
      "6 76\n",
      "7 88\n",
      "8 100\n",
      "9 112\n",
      "10 124\n",
      "11 136\n",
      "12 148\n",
      "13 160\n",
      "14 172\n",
      "15 184\n",
      "16 196\n",
      "17 208\n",
      "18 220\n",
      "19 232\n",
      "20 244\n",
      "21 256\n",
      "22 268\n",
      "23 280\n",
      "24 292\n",
      "25 304\n",
      "26 316\n",
      "27 328\n",
      "28 340\n",
      "29 352\n",
      "30 364\n",
      "31 376\n",
      "32 388\n"
     ]
    }
   ],
   "source": [
    "for index,item in enumerate(a):\n",
    "    print(index,2*item)"
   ]
  },
  {
   "cell_type": "markdown",
   "id": "worldwide-beatles",
   "metadata": {},
   "source": [
    "# ---"
   ]
  },
  {
   "cell_type": "code",
   "execution_count": null,
   "id": "radio-photography",
   "metadata": {},
   "outputs": [],
   "source": [
    "metin = \"Bugün hava sıcaklığı düşük olacak.\"\n",
    "# bütün kelimeler büyük harfle başlayacak \n",
    "# Bugün Hava Sıcaklığı Düşük Olacak."
   ]
  },
  {
   "cell_type": "code",
   "execution_count": 34,
   "id": "psychological-interaction",
   "metadata": {},
   "outputs": [
    {
     "data": {
      "text/plain": [
       "'Bugün Hava Sıcaklığı Düşük Olacak.'"
      ]
     },
     "execution_count": 34,
     "metadata": {},
     "output_type": "execute_result"
    }
   ],
   "source": [
    "metin.title()"
   ]
  },
  {
   "cell_type": "markdown",
   "id": "narrow-school",
   "metadata": {},
   "source": [
    "# ----"
   ]
  },
  {
   "cell_type": "code",
   "execution_count": null,
   "id": "indonesian-finding",
   "metadata": {},
   "outputs": [],
   "source": [
    "metin = \"Bugün hava sıcaklığı düşük olacak.\"\n",
    "# bütün kelimeler büyük harfle başlayacak \n",
    "# Bugün Hava Sıcaklığı Düşük Olacak.\n",
    "# title() kullanmadan"
   ]
  },
  {
   "cell_type": "code",
   "execution_count": 43,
   "id": "tight-radical",
   "metadata": {},
   "outputs": [
    {
     "name": "stdout",
     "output_type": "stream",
     "text": [
      "Bugün Hava Sıcaklığı Düşük Olacak. \n"
     ]
    }
   ],
   "source": [
    "yeni = \"\";\n",
    "for kelime in metin.split(\" \"):\n",
    "    yeni += kelime.capitalize()+ \" \"\n",
    "print(yeni)"
   ]
  },
  {
   "cell_type": "code",
   "execution_count": 44,
   "id": "renewable-train",
   "metadata": {},
   "outputs": [],
   "source": [
    "#Alternatif\n",
    "metin = \"Bugün hava sıcaklığı düşük olacak.\"\n",
    "a = \"\"\n",
    "for item in metin.split(\" \"):\n",
    "    a += item.capitalize() + \" \""
   ]
  },
  {
   "cell_type": "code",
   "execution_count": 45,
   "id": "annual-cloud",
   "metadata": {},
   "outputs": [
    {
     "data": {
      "text/plain": [
       "'Bugün Hava Sıcaklığı Düşük Olacak.'"
      ]
     },
     "execution_count": 45,
     "metadata": {},
     "output_type": "execute_result"
    }
   ],
   "source": [
    "#Bilal\n",
    "keywords = list();\n",
    "for i in metin.split(\" \"):\n",
    "    keywords.append(i.capitalize()); \n",
    "\" \".join(keywords)"
   ]
  }
 ],
 "metadata": {
  "kernelspec": {
   "display_name": "Python 3",
   "language": "python",
   "name": "python3"
  },
  "language_info": {
   "codemirror_mode": {
    "name": "ipython",
    "version": 3
   },
   "file_extension": ".py",
   "mimetype": "text/x-python",
   "name": "python",
   "nbconvert_exporter": "python",
   "pygments_lexer": "ipython3",
   "version": "3.8.8"
  }
 },
 "nbformat": 4,
 "nbformat_minor": 5
}
