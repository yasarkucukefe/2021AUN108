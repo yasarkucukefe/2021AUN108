{
 "cells": [
  {
   "cell_type": "code",
   "execution_count": null,
   "id": "characteristic-palace",
   "metadata": {},
   "outputs": [],
   "source": [
    "# Online Jupyter: https://jupyter.org/try"
   ]
  },
  {
   "cell_type": "code",
   "execution_count": 1,
   "id": "oriental-silicon",
   "metadata": {},
   "outputs": [],
   "source": [
    "deger = 2 * \"elma\""
   ]
  },
  {
   "cell_type": "code",
   "execution_count": 2,
   "id": "radical-adventure",
   "metadata": {},
   "outputs": [
    {
     "name": "stdout",
     "output_type": "stream",
     "text": [
      "elmaelma\n"
     ]
    }
   ],
   "source": [
    "print(deger)"
   ]
  },
  {
   "cell_type": "code",
   "execution_count": 5,
   "id": "opened-conservative",
   "metadata": {},
   "outputs": [],
   "source": [
    "deger = str(2) + \"elma\""
   ]
  },
  {
   "cell_type": "code",
   "execution_count": null,
   "id": "veterinary-milton",
   "metadata": {},
   "outputs": [],
   "source": [
    "print(deger)"
   ]
  },
  {
   "cell_type": "code",
   "execution_count": null,
   "id": "impossible-means",
   "metadata": {},
   "outputs": [],
   "source": [
    "# elmaelma : Bilal, Enes, Mertcan,\n",
    "# hata : Nurullah"
   ]
  },
  {
   "cell_type": "markdown",
   "id": "unexpected-charge",
   "metadata": {},
   "source": [
    "# Numpy"
   ]
  },
  {
   "cell_type": "code",
   "execution_count": 8,
   "id": "coated-guidance",
   "metadata": {},
   "outputs": [],
   "source": [
    "import numpy as np"
   ]
  },
  {
   "cell_type": "code",
   "execution_count": 9,
   "id": "decreased-adventure",
   "metadata": {},
   "outputs": [],
   "source": [
    "liste = [1, 2, 3]"
   ]
  },
  {
   "cell_type": "code",
   "execution_count": 10,
   "id": "governmental-shower",
   "metadata": {},
   "outputs": [
    {
     "data": {
      "text/plain": [
       "list"
      ]
     },
     "execution_count": 10,
     "metadata": {},
     "output_type": "execute_result"
    }
   ],
   "source": [
    "type(liste)"
   ]
  },
  {
   "cell_type": "code",
   "execution_count": 11,
   "id": "working-milton",
   "metadata": {},
   "outputs": [],
   "source": [
    "np_arr = np.array([1, 2, 3])"
   ]
  },
  {
   "cell_type": "code",
   "execution_count": 12,
   "id": "comprehensive-combination",
   "metadata": {},
   "outputs": [
    {
     "data": {
      "text/plain": [
       "numpy.ndarray"
      ]
     },
     "execution_count": 12,
     "metadata": {},
     "output_type": "execute_result"
    }
   ],
   "source": [
    "type(np_arr)"
   ]
  }
 ],
 "metadata": {
  "kernelspec": {
   "display_name": "Python 3",
   "language": "python",
   "name": "python3"
  },
  "language_info": {
   "codemirror_mode": {
    "name": "ipython",
    "version": 3
   },
   "file_extension": ".py",
   "mimetype": "text/x-python",
   "name": "python",
   "nbconvert_exporter": "python",
   "pygments_lexer": "ipython3",
   "version": "3.8.8"
  }
 },
 "nbformat": 4,
 "nbformat_minor": 5
}
